{
 "cells": [
  {
   "cell_type": "code",
   "execution_count": 1,
   "metadata": {},
   "outputs": [
    {
     "name": "stderr",
     "output_type": "stream",
     "text": [
      "2018-08-13 15:50:55,525 [nnabla][INFO]: Initializing CPU extension...\n"
     ]
    }
   ],
   "source": [
    "import math\n",
    "import random\n",
    "import time\n",
    "from jupyterthemes import jtplot\n",
    "jtplot.style()\n",
    "\n",
    "import gym\n",
    "gym.logger.set_level(40)\n",
    "import numpy as np\n",
    "\n",
    "\n",
    "import nnabla as nn\n",
    "import nnabla.logger as logger\n",
    "import nnabla.functions as F\n",
    "import nnabla.parametric_functions as PF\n",
    "import nnabla.solver as S\n",
    "from nnabla.contrib.context import extension_context\n",
    "from nnabla.monitor import Monitor, MonitorSeries, MonitorTimeElapsed"
   ]
  },
  {
   "cell_type": "code",
   "execution_count": 2,
   "metadata": {},
   "outputs": [],
   "source": [
    "from IPython.display import clear_output\n",
    "import matplotlib.pyplot as plt\n",
    "%matplotlib inline"
   ]
  },
  {
   "cell_type": "code",
   "execution_count": 3,
   "metadata": {},
   "outputs": [],
   "source": [
    "epsilon_start = 1.0\n",
    "epsilon_final = 0.01\n",
    "epsilon_decay = 500\n",
    "epsilon_by_frame = lambda frame_idx: epsilon_final + (epsilon_start - epsilon_final) * math.exp(-1. * frame_idx / epsilon_decay)"
   ]
  },
  {
   "cell_type": "code",
   "execution_count": 4,
   "metadata": {},
   "outputs": [],
   "source": [
    "from collections import deque\n",
    "class ReplayBuffer(object):\n",
    "    def __init__(self, capacity):\n",
    "        self.buffer = deque(maxlen=capacity)\n",
    "    \n",
    "    def push(self, state, action, reward, next_state, done):\n",
    "        state      = np.expand_dims(state, 0)\n",
    "        next_state = np.expand_dims(next_state, 0)\n",
    "        self.buffer.append((state, action, reward, next_state, done))\n",
    "    \n",
    "    def sample(self, batch_size):\n",
    "        state, action, reward, next_state, done = zip(*random.sample(self.buffer, batch_size))\n",
    "        return np.concatenate(state), action, reward, np.concatenate(next_state), done\n",
    "    \n",
    "    def __len__(self):\n",
    "        return len(self.buffer)"
   ]
  },
  {
   "cell_type": "code",
   "execution_count": 5,
   "metadata": {},
   "outputs": [],
   "source": [
    "env = gym.make(\"CartPole-v0\")\n",
    "state_num = env.observation_space.shape[0]\n",
    "action_num = env.action_space.n\n",
    "hidden_size = 64\n",
    "max_frames = 20000\n",
    "state_size = 1\n",
    "batch_size = 32\n",
    "replay_buffer_size = 1000\n",
    "gamma = 0.99\n",
    "learning_rate = 1e-3"
   ]
  },
  {
   "cell_type": "code",
   "execution_count": 6,
   "metadata": {},
   "outputs": [],
   "source": [
    "def DQN(state):\n",
    "    with nn.parameter_scope(\"DQN\"):\n",
    "        with nn.parameter_scope(\"affine1\"):\n",
    "            h = F.relu(PF.affine(state, hidden_size))\n",
    "        with nn.parameter_scope(\"affine2\"):\n",
    "            h = F.relu(PF.affine(h, hidden_size))\n",
    "        with nn.parameter_scope(\"affine3\"):\n",
    "            Q = PF.affine(h, action_num)\n",
    "    return Q\n",
    "\n",
    "def act(state, epsilon):\n",
    "    if random.random() > epsilon:\n",
    "        State.d = state\n",
    "        Q.forward()\n",
    "        action  = np.argmax(Q.d)\n",
    "#        print(\"q_value.d\",Q.d[0])\n",
    "    else:\n",
    "        action = random.randrange(action_num)\n",
    "    return action"
   ]
  },
  {
   "cell_type": "code",
   "execution_count": 7,
   "metadata": {},
   "outputs": [],
   "source": [
    "replay_buffer = ReplayBuffer(replay_buffer_size)\n",
    "\n",
    "#変数定義\n",
    "State = nn.Variable([32, 4]) #あとで次元数変数で定義\n",
    "Action = nn.Variable([32, 1])\n",
    "Q = DQN(State)\n",
    "Q_value = F.sum(F.one_hot(Action, (2,)) * Q, axis=1, keepdims=True)#QからActionのやつを抜き出す\n",
    "next_Q_value = F.max(Q, axis=1, keepdims=True) #Qから最大のもので一列作る\n",
    "expected_Q_value = nn.Variable([32, 1])\n",
    "#next_Q_value = Q.max(axis=1),reshape(32,1) #Qから最大のもので一列作る\n",
    "\n",
    "\n",
    "#損失関数定義\n",
    "loss = F.squared_error(Q_value, expected_Q_value)\n",
    "\n",
    "#solver定義\n",
    "solver = S.Adam(learning_rate)\n",
    "with nn.parameter_scope(\"DQN\"):\n",
    "    solver.set_parameters(nn.get_parameters())\n",
    "solver.zero_grad()\n",
    "\n",
    "losses = []\n",
    "overall_rewards = []\n",
    "episode_reward = 0"
   ]
  },
  {
   "cell_type": "code",
   "execution_count": 8,
   "metadata": {},
   "outputs": [],
   "source": [
    "def compute_td_loss(batch_size):\n",
    "    global State, Q, t, loss\n",
    "    #リプレイサンプル\n",
    "    state, action, reward, next_state, done = replay_buffer.sample(batch_size)\n",
    "    #変数代入\n",
    "    State.d = state\n",
    "    Reward = np.array(reward).reshape([batch_size,1])\n",
    "    Done =np.array(done).reshape([batch_size,1])\n",
    "    \n",
    "    #行動の次元数が1のとき\n",
    "    action = np.array(action)\n",
    "    action = action.reshape([batch_size,1])\n",
    "    Action.d = action\n",
    "    \n",
    "    Q.forward()\n",
    "    Q_value.forward()\n",
    "    \n",
    "    #変数代入\n",
    "    State.d = next_state\n",
    "    Q.forward()\n",
    "    next_Q_value = np.max(Q.d, axis=1, keepdims=True)\n",
    "    expected_Q_value.d = Reward + gamma * next_Q_value * (1 - Done)\n",
    "    \n",
    "    loss.forward()\n",
    "    solver.zero_grad()\n",
    "    loss.backward()\n",
    "    solver.update()\n",
    "    \n",
    "    return loss\n"
   ]
  },
  {
   "cell_type": "code",
   "execution_count": 9,
   "metadata": {},
   "outputs": [],
   "source": [
    "def plot(frame, rewards, losses):\n",
    "    clear_output(True)\n",
    "    plt.figure(figsize=(20,5))\n",
    "    plt.subplot(131)\n",
    "    plt.title('frame %s. reward: %s' % (frame, np.mean(rewards[-10:])))\n",
    "    plt.plot(rewards)\n",
    "    plt.subplot(132)\n",
    "    plt.title('loss')\n",
    "    plt.plot(losses)\n",
    "    plt.show()"
   ]
  },
  {
   "cell_type": "code",
   "execution_count": null,
   "metadata": {},
   "outputs": [
    {
     "data": {
      "image/png": "[encoded data removed]",
      "text/plain": [
       "<Figure size 1440x360 with 2 Axes>"
      ]
     },
     "metadata": {},
     "output_type": "display_data"
    }
   ],
   "source": [
    "state = env.reset()\n",
    "nn.clear_parameters()\n",
    "for frame in range(1, max_frames):\n",
    "    epsilon = epsilon_by_frame(frame)\n",
    "    action = act(state, epsilon)\n",
    "    next_state, reward, done, _ = env.step(action)\n",
    "    replay_buffer.push(state, action, reward, next_state, done)\n",
    "    state = next_state\n",
    "    episode_reward += reward   \n",
    "    env.render()\n",
    "    if done:\n",
    "        state = env.reset()\n",
    "        overall_rewards.append(episode_reward)\n",
    "        episode_reward = 0\n",
    "        \n",
    "    if len(replay_buffer) > batch_size:\n",
    "        loss = compute_td_loss(batch_size)\n",
    "        losses.append(np.average(loss.d[0]))\n",
    "    if frame % 200 == 0:\n",
    "        plot(frame, overall_rewards, losses)\n",
    "#TODO ターゲットネットワーク"
   ]
  },
  {
   "cell_type": "code",
   "execution_count": null,
   "metadata": {},
   "outputs": [],
   "source": []
  },
  {
   "cell_type": "code",
   "execution_count": null,
   "metadata": {},
   "outputs": [],
   "source": [
    "a = np.random.randint(10, size = (5,1))\n",
    "b = np.random.randint(10, size = (5,1))\n",
    "print(a)\n",
    "print(b)\n",
    "print(a*b)"
   ]
  },
  {
   "cell_type": "code",
   "execution_count": null,
   "metadata": {},
   "outputs": [],
   "source": []
  },
  {
   "cell_type": "code",
   "execution_count": null,
   "metadata": {},
   "outputs": [],
   "source": []
  }
 ],
 "metadata": {
  "kernelspec": {
   "display_name": "nnabla",
   "language": "python",
   "name": "nnabla"
  },
  "language_info": {
   "codemirror_mode": {
    "name": "ipython",
    "version": 3
   },
   "file_extension": ".py",
   "mimetype": "text/x-python",
   "name": "python",
   "nbconvert_exporter": "python",
   "pygments_lexer": "ipython3",
   "version": "3.5.2"
  }
 },
 "nbformat": 4,
 "nbformat_minor": 2
}
