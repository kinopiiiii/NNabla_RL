{
 "cells": [
  {
   "cell_type": "code",
   "execution_count": 1,
   "metadata": {},
   "outputs": [
    {
     "name": "stderr",
     "output_type": "stream",
     "text": [
      "2018-08-11 23:50:49,663 [nnabla][INFO]: Initializing CPU extension...\n"
     ]
    }
   ],
   "source": [
    "import math\n",
    "import random\n",
    "import time\n",
    "from jupyterthemes import jtplot\n",
    "jtplot.style()\n",
    "\n",
    "import gym\n",
    "gym.logger.set_level(40)\n",
    "import numpy as np\n",
    "\n",
    "\n",
    "import nnabla as nn\n",
    "import nnabla.logger as logger\n",
    "import nnabla.functions as F\n",
    "import nnabla.parametric_functions as PF\n",
    "import nnabla.solver as S\n",
    "from nnabla.contrib.context import extension_context\n",
    "from nnabla.monitor import Monitor, MonitorSeries, MonitorTimeElapsed"
   ]
  },
  {
   "cell_type": "code",
   "execution_count": 2,
   "metadata": {},
   "outputs": [],
   "source": [
    "from IPython.display import clear_output\n",
    "import matplotlib.pyplot as plt\n",
    "%matplotlib inline"
   ]
  },
  {
   "cell_type": "code",
   "execution_count": 3,
   "metadata": {},
   "outputs": [],
   "source": [
    "epsilon_start = 1.0\n",
    "epsilon_final = 0.01\n",
    "epsilon_decay = 500\n",
    "epsilon_by_frame = lambda frame_idx: epsilon_final + (epsilon_start - epsilon_final) * math.exp(-1. * frame_idx / epsilon_decay)"
   ]
  },
  {
   "cell_type": "code",
   "execution_count": 4,
   "metadata": {},
   "outputs": [],
   "source": [
    "from collections import deque\n",
    "class ReplayBuffer(object):\n",
    "    def __init__(self, capacity):\n",
    "        self.buffer = deque(maxlen=capacity)\n",
    "    \n",
    "    def push(self, state, action, reward, next_state, done):\n",
    "        state      = np.expand_dims(state, 0)\n",
    "        next_state = np.expand_dims(next_state, 0)\n",
    "        self.buffer.append((state, action, reward, next_state, done))\n",
    "    \n",
    "    def sample(self, batch_size):\n",
    "        state, action, reward, next_state, done = zip(*random.sample(self.buffer, batch_size))\n",
    "        return np.concatenate(state), action, reward, np.concatenate(next_state), done\n",
    "    \n",
    "    def __len__(self):\n",
    "        return len(self.buffer)"
   ]
  },
  {
   "cell_type": "code",
   "execution_count": 5,
   "metadata": {},
   "outputs": [],
   "source": [
    "env = gym.make(\"CartPole-v0\")\n",
    "state_num = env.observation_space.shape[0]\n",
    "action_num = env.action_space.n\n",
    "\n",
    "hidden_size = 128\n",
    "max_frames = 20000\n",
    "state_size = 1\n",
    "batch_size = 32\n",
    "replay_buffer_size = 1000\n",
    "gamma = 0.99\n",
    "learning_rate = 1e-3"
   ]
  },
  {
   "cell_type": "code",
   "execution_count": 6,
   "metadata": {},
   "outputs": [
    {
     "data": {
      "text/plain": [
       "'\\nclass DQN:\\n    def __init__(self, num_states, num_actions):\\n        self.state_dim = num_states\\n        self.action_dim = num_actions \\n        self.state = nn.Variable([state_size, self.state_dim])\\n    \\n    def compute_Q(self, x):\\n        with nn.parameter_scope(\"DQN\"):\\n            with nn.parameter_scope(\"affine1\"):\\n                h = F.relu(PF.affine(x, hidden_size))\\n            with nn.parameter_scope(\"affine2\"):\\n                h = F.relu(PF.affine(h, hidden_size))\\n            with nn.parameter_scope(\"affine3\"):\\n                y = PF.affine(h, self.action_dim)\\n        return y\\n    \\n    def act(self, state, epsilon):\\n        if random.random() > epsilon:\\n            self.state.d = state\\n            q_value = self.compute_Q(self.state)\\n            print(\"q_value.d\",q_value.d)\\n            action  = np.argmax(q_value.d)\\n#            print(\"action:\",action)\\n        else:\\n            action = random.randrange(self.action_dim)\\n        return action\\n'"
      ]
     },
     "execution_count": 6,
     "metadata": {},
     "output_type": "execute_result"
    }
   ],
   "source": [
    "\"\"\"\n",
    "class DQN:\n",
    "    def __init__(self, num_states, num_actions):\n",
    "        self.state_dim = num_states\n",
    "        self.action_dim = num_actions \n",
    "        self.state = nn.Variable([state_size, self.state_dim])\n",
    "    \n",
    "    def compute_Q(self, x):\n",
    "        with nn.parameter_scope(\"DQN\"):\n",
    "            with nn.parameter_scope(\"affine1\"):\n",
    "                h = F.relu(PF.affine(x, hidden_size))\n",
    "            with nn.parameter_scope(\"affine2\"):\n",
    "                h = F.relu(PF.affine(h, hidden_size))\n",
    "            with nn.parameter_scope(\"affine3\"):\n",
    "                y = PF.affine(h, self.action_dim)\n",
    "        return y\n",
    "    \n",
    "    def act(self, state, epsilon):\n",
    "        if random.random() > epsilon:\n",
    "            self.state.d = state\n",
    "            q_value = self.compute_Q(self.state)\n",
    "            print(\"q_value.d\",q_value.d)\n",
    "            action  = np.argmax(q_value.d)\n",
    "#            print(\"action:\",action)\n",
    "        else:\n",
    "            action = random.randrange(self.action_dim)\n",
    "        return action\n",
    "\"\"\""
   ]
  },
  {
   "cell_type": "code",
   "execution_count": 7,
   "metadata": {},
   "outputs": [],
   "source": [
    "def DQN(state):\n",
    "    with nn.parameter_scope(\"DQN\"):\n",
    "        with nn.parameter_scope(\"affine1\"):\n",
    "            h = F.relu(PF.affine(state, hidden_size))\n",
    "        with nn.parameter_scope(\"affine2\"):\n",
    "            h = F.relu(PF.affine(h, hidden_size))\n",
    "        with nn.parameter_scope(\"affine3\"):\n",
    "            Q = PF.affine(h, action_num)\n",
    "    return Q\n",
    "\n",
    "def act(state, epsilon):\n",
    "    if random.random() > epsilon:\n",
    "        State = nn.Variable([state_size, state_num])\n",
    "        State.d = state\n",
    "        q_value = DQN(State)\n",
    "        action  = np.argmax(q_value.d)\n",
    "        print(\"q_value.d\",q_value.d)\n",
    "#        print(\"action:\",action)\n",
    "    else:\n",
    "        action = random.randrange(action_num)\n",
    "    return action"
   ]
  },
  {
   "cell_type": "code",
   "execution_count": 8,
   "metadata": {},
   "outputs": [],
   "source": [
    "#model = DQN(env.observation_space.shape[0], env.action_space.n)\n",
    "replay_buffer = ReplayBuffer(replay_buffer_size)\n",
    "\n",
    "solver = S.Adam(learning_rate)\n",
    "with nn.parameter_scope(\"DQN\"):\n",
    "    solver.set_parameters(nn.get_parameters())\n",
    "solver.zero_grad()\n",
    "losses = []\n",
    "overall_rewards = []\n",
    "episode_reward = 0"
   ]
  },
  {
   "cell_type": "code",
   "execution_count": 9,
   "metadata": {},
   "outputs": [
    {
     "data": {
      "text/plain": [
       "'\\ndef compute_td_loss(batch_size):\\n    state, action, reward, next_state, done = replay_buffer.sample(batch_size)\\n    State = nn.Variable.from_numpy_array(state)\\n    Next_State = nn.Variable.from_numpy_array(next_state)\\n    Action = nn.Variable(action)\\n    Reward = nn.Variable(reward)\\n    Done = nn.Variable(done)\\n#    print(\"action\",action)\\n    \\n    q_values = DQN(State)\\n#    print(\"q_values.d\",q_values.d)\\n    q_values = np.array([q_values.d[i,action[i]] for i in range(batch_size)])\\n#    print(\"q_values\",q_values)\\n\\n    next_q_values = DQN(Next_State)\\n#    print(\"next_q_values.d\",next_q_values.d)\\n    next_q_values = next_q_values.d.max(axis=1)\\n#    print(\"next_q_values\", next_q_values)\\n    reward = np.array(reward)\\n    done = np.array(done)\\n#    print(\"Reward\",reward)\\n#    print(\"next_q_value\",next_q_values)\\n    expected_q_value = reward + gamma * next_q_values * (1 - done)\\n#    print(\"type\",type(q_values),type(expected_q_value))\\n    q_values = nn.Variable.from_numpy_array(q_values)\\n    expected_q_value = nn.Variable.from_numpy_array(expected_q_value)\\n#    print(q_values,expected_q_value)\\n    DQN_loss = F.squared_error(q_values, expected_q_value)\\n    DQN_loss.forward()\\n    DQN_solver.zero_grad()\\n    DQN_loss.backward()\\n    DQN_solver.update()\\n\\n    return DQN_loss\\n'"
      ]
     },
     "execution_count": 9,
     "metadata": {},
     "output_type": "execute_result"
    }
   ],
   "source": [
    "\"\"\"\n",
    "def compute_td_loss(batch_size):\n",
    "    state, action, reward, next_state, done = replay_buffer.sample(batch_size)\n",
    "    State = nn.Variable.from_numpy_array(state)\n",
    "    Next_State = nn.Variable.from_numpy_array(next_state)\n",
    "    Action = nn.Variable(action)\n",
    "    Reward = nn.Variable(reward)\n",
    "    Done = nn.Variable(done)\n",
    "#    print(\"action\",action)\n",
    "    \n",
    "    q_values = DQN(State)\n",
    "#    print(\"q_values.d\",q_values.d)\n",
    "    q_values = np.array([q_values.d[i,action[i]] for i in range(batch_size)])\n",
    "#    print(\"q_values\",q_values)\n",
    "\n",
    "    next_q_values = DQN(Next_State)\n",
    "#    print(\"next_q_values.d\",next_q_values.d)\n",
    "    next_q_values = next_q_values.d.max(axis=1)\n",
    "#    print(\"next_q_values\", next_q_values)\n",
    "    reward = np.array(reward)\n",
    "    done = np.array(done)\n",
    "#    print(\"Reward\",reward)\n",
    "#    print(\"next_q_value\",next_q_values)\n",
    "    expected_q_value = reward + gamma * next_q_values * (1 - done)\n",
    "#    print(\"type\",type(q_values),type(expected_q_value))\n",
    "    q_values = nn.Variable.from_numpy_array(q_values)\n",
    "    expected_q_value = nn.Variable.from_numpy_array(expected_q_value)\n",
    "#    print(q_values,expected_q_value)\n",
    "    DQN_loss = F.squared_error(q_values, expected_q_value)\n",
    "    DQN_loss.forward()\n",
    "    DQN_solver.zero_grad()\n",
    "    DQN_loss.backward()\n",
    "    DQN_solver.update()\n",
    "\n",
    "    return DQN_loss\n",
    "\"\"\""
   ]
  },
  {
   "cell_type": "code",
   "execution_count": 10,
   "metadata": {},
   "outputs": [],
   "source": [
    "#変数定義\n",
    "State = nn.Variable([32, 4])\n",
    "Q = DQN(State)\n",
    "t = nn.Variable([32, 2])\n",
    "#損失関数定義\n",
    "loss = F.squared_error(Q, t)"
   ]
  },
  {
   "cell_type": "code",
   "execution_count": 11,
   "metadata": {},
   "outputs": [
    {
     "data": {
      "text/plain": [
       "'\\n    q_values = DQN(State)\\n    q_values = np.array([q_values.d[i,action[i]] for i in range(batch_size)])\\n    next_q_values = DQN(Next_State)\\n    next_q_values = next_q_values.d.max(axis=1)\\n    reward = np.array(reward)\\n    done = np.array(done)\\n    expected_q_value = reward + gamma * next_q_values * (1 - done)\\n    q_values = nn.Variable.from_numpy_array(q_values)\\n    expected_q_value = nn.Variable.from_numpy_array(expected_q_value)\\n\\n    DQN_loss = F.squared_error(q_values, expected_q_value)\\n    DQN_loss.forward()\\n    DQN_solver.zero_grad()\\n    DQN_loss.backward()\\n    DQN_solver.update()\\n'"
      ]
     },
     "execution_count": 11,
     "metadata": {},
     "output_type": "execute_result"
    }
   ],
   "source": [
    "def compute_td_loss(batch_size):\n",
    "    #リプレイサンプル\n",
    "    state, action, reward, next_state, done = replay_buffer.sample(batch_size)\n",
    "    #変数代入\n",
    "    State.d = state\n",
    "    t.d = np.full((32,2),-100.0)\n",
    "    \n",
    "    loss.forward()\n",
    "    solver.zero_grad()\n",
    "    loss.backward()\n",
    "    solver.update()\n",
    "#    print(\"DQN_loss\",loss.d)\n",
    "#    Q = DQN(State)\n",
    "    print(\"Q1 :\",Q.d)\n",
    "    Q.forward()\n",
    "    print(\"Q2 :\",Q.d)\n",
    "    return loss\n",
    "\"\"\"\n",
    "    q_values = DQN(State)\n",
    "    q_values = np.array([q_values.d[i,action[i]] for i in range(batch_size)])\n",
    "    next_q_values = DQN(Next_State)\n",
    "    next_q_values = next_q_values.d.max(axis=1)\n",
    "    reward = np.array(reward)\n",
    "    done = np.array(done)\n",
    "    expected_q_value = reward + gamma * next_q_values * (1 - done)\n",
    "    q_values = nn.Variable.from_numpy_array(q_values)\n",
    "    expected_q_value = nn.Variable.from_numpy_array(expected_q_value)\n",
    "\n",
    "    DQN_loss = F.squared_error(q_values, expected_q_value)\n",
    "    DQN_loss.forward()\n",
    "    DQN_solver.zero_grad()\n",
    "    DQN_loss.backward()\n",
    "    DQN_solver.update()\n",
    "\"\"\"\n",
    "    \n"
   ]
  },
  {
   "cell_type": "code",
   "execution_count": 12,
   "metadata": {},
   "outputs": [],
   "source": [
    "def plot(frame, rewards, losses):\n",
    "    clear_output(True)\n",
    "    plt.figure(figsize=(20,5))\n",
    "    plt.subplot(131)\n",
    "    plt.title('frame %s. reward: %s' % (frame, np.mean(rewards[-10:])))\n",
    "    plt.plot(rewards)\n",
    "    plt.subplot(132)\n",
    "    plt.title('loss')\n",
    "#    plt.plot(losses)\n",
    "    plt.show()"
   ]
  },
  {
   "cell_type": "code",
   "execution_count": null,
   "metadata": {},
   "outputs": [
    {
     "data": {
      "image/png": "[encoded data removed]",
      "text/plain": [
       "<Figure size 1440x360 with 2 Axes>"
      ]
     },
     "metadata": {},
     "output_type": "display_data"
    }
   ],
   "source": [
    "state = env.reset()\n",
    "nn.clear_parameters()\n",
    "for frame in range(1, max_frames):\n",
    "    epsilon = epsilon_by_frame(frame)\n",
    "    action = act(state, epsilon)\n",
    "    next_state, reward, done, _ = env.step(action)\n",
    "    replay_buffer.push(state, action, reward, next_state, done)\n",
    "    state = next_state\n",
    "    episode_reward += reward   \n",
    "#    print(state,frame)\n",
    "#    env.render()\n",
    "    if done:\n",
    "#        print(\"done\")\n",
    "        state = env.reset()\n",
    "        overall_rewards.append(episode_reward)\n",
    "        episode_reward = 0\n",
    "        \n",
    "    if len(replay_buffer) > batch_size:\n",
    "        loss = compute_td_loss(batch_size)\n",
    "#        losses.append(loss.data[0])\n",
    "#        print(loss.data[0])\n",
    "    if frame % 200 == 0:\n",
    "        plot(frame, overall_rewards, losses)"
   ]
  },
  {
   "cell_type": "code",
   "execution_count": null,
   "metadata": {},
   "outputs": [],
   "source": [
    "State = nn.Variable([1, 4])\n",
    "#変数定義\n",
    "Q = DQN(State)\n",
    "t = nn.Variable([1, 2])\n",
    "#損失関数定義\n",
    "loss = F.squared_error(Q, t)"
   ]
  },
  {
   "cell_type": "code",
   "execution_count": null,
   "metadata": {},
   "outputs": [],
   "source": [
    "state = env.reset()\n",
    "#変数代入\n",
    "State.d = state\n",
    "t.d = np.full((1,2),-10.0)\n",
    "print(\"State :\",State.d)\n",
    "print(\"Q :\",Q.d)\n",
    "\n",
    "#solvar定義\n",
    "solver = S.Adam(learning_rate)\n",
    "with nn.parameter_scope(\"DQN\"):\n",
    "    solver.set_parameters(nn.get_parameters())\n",
    "solver.zero_grad()\n"
   ]
  },
  {
   "cell_type": "code",
   "execution_count": null,
   "metadata": {},
   "outputs": [],
   "source": [
    "loss.forward()\n",
    "solver.zero_grad()\n",
    "loss.backward()\n",
    "solver.update()\n",
    "print(\"DQN_loss\",loss.d)\n",
    "Q = DQN(State)\n",
    "print(\"Q :\",Q.d)\n",
    "Q.forward()\n",
    "print(\"Q :\",Q.d)"
   ]
  },
  {
   "cell_type": "code",
   "execution_count": null,
   "metadata": {},
   "outputs": [],
   "source": []
  },
  {
   "cell_type": "code",
   "execution_count": null,
   "metadata": {},
   "outputs": [],
   "source": []
  }
 ],
 "metadata": {
  "kernelspec": {
   "display_name": "nnabla",
   "language": "python",
   "name": "nnabla"
  },
  "language_info": {
   "codemirror_mode": {
    "name": "ipython",
    "version": 3
   },
   "file_extension": ".py",
   "mimetype": "text/x-python",
   "name": "python",
   "nbconvert_exporter": "python",
   "pygments_lexer": "ipython3",
   "version": "3.5.2"
  }
 },
 "nbformat": 4,
 "nbformat_minor": 2
}
