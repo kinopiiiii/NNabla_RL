{
 "cells": [
  {
   "cell_type": "code",
   "execution_count": 26,
   "metadata": {},
   "outputs": [],
   "source": [
    "import math\n",
    "import random\n",
    "import time\n",
    "from jupyterthemes import jtplot\n",
    "jtplot.style()\n",
    "\n",
    "import gym\n",
    "gym.logger.set_level(40)\n",
    "import numpy as np\n",
    "\n",
    "\n",
    "import nnabla as nn\n",
    "import nnabla.logger as logger\n",
    "import nnabla.functions as F\n",
    "import nnabla.parametric_functions as PF\n",
    "import nnabla.solver as S\n",
    "from nnabla.contrib.context import extension_context\n",
    "from nnabla.monitor import Monitor, MonitorSeries, MonitorTimeElapsed"
   ]
  },
  {
   "cell_type": "code",
   "execution_count": 27,
   "metadata": {},
   "outputs": [],
   "source": [
    "from IPython.display import clear_output\n",
    "import matplotlib.pyplot as plt\n",
    "%matplotlib inline"
   ]
  },
  {
   "cell_type": "code",
   "execution_count": 28,
   "metadata": {},
   "outputs": [],
   "source": [
    "env = gym.make(\"CartPole-v0\")\n"
   ]
  },
  {
   "cell_type": "code",
   "execution_count": 29,
   "metadata": {},
   "outputs": [],
   "source": [
    "epsilon_start = 1.0\n",
    "epsilon_final = 0.01\n",
    "epsilon_decay = 500\n",
    "epsilon_by_frame = lambda frame_idx: epsilon_final + (epsilon_start - epsilon_final) * math.exp(-1. * frame_idx / epsilon_decay)"
   ]
  },
  {
   "cell_type": "code",
   "execution_count": 30,
   "metadata": {},
   "outputs": [],
   "source": [
    "from collections import deque\n",
    "class ReplayBuffer(object):\n",
    "    def __init__(self, capacity):\n",
    "        self.buffer = deque(maxlen=capacity)\n",
    "    \n",
    "    def push(self, state, action, reward, next_state, done):\n",
    "        state      = np.expand_dims(state, 0)\n",
    "        next_state = np.expand_dims(next_state, 0)\n",
    "        self.buffer.append((state, action, reward, next_state, done))\n",
    "    \n",
    "    def sample(self, batch_size):\n",
    "        state, action, reward, next_state, done = zip(*random.sample(self.buffer, batch_size))\n",
    "        return np.concatenate(state), action, reward, np.concatenate(next_state), done\n",
    "    \n",
    "    def __len__(self):\n",
    "        return len(self.buffer)"
   ]
  },
  {
   "cell_type": "code",
   "execution_count": 35,
   "metadata": {},
   "outputs": [],
   "source": [
    "hidden_size = 128\n",
    "max_frames = 50\n",
    "state_size = 1\n",
    "batch_size = 32\n",
    "replay_buffer_size = 1000"
   ]
  },
  {
   "cell_type": "code",
   "execution_count": 40,
   "metadata": {},
   "outputs": [],
   "source": [
    "class DQN:\n",
    "    def __init__(self, num_states, num_actions):\n",
    "        self.state_dim = num_states\n",
    "        self.action_dim = num_actions \n",
    "        self.state = nn.Variable([state_size, self.state_dim])\n",
    "    \n",
    "    def forward(self, x):\n",
    "        with nn.parameter_scope(\"DQN\"):\n",
    "            with nn.parameter_scope(\"affine1\"):\n",
    "                h = F.relu(PF.affine(x, hidden_size))\n",
    "            with nn.parameter_scope(\"affine2\"):\n",
    "                h = F.relu(PF.affine(h, hidden_size))\n",
    "            with nn.parameter_scope(\"affine3\"):\n",
    "                y = PF.affine(h, self.action_dim)\n",
    "        return y\n",
    "    \n",
    "    def act(self, state, epsilon):\n",
    "        if random.random() > epsilon:\n",
    "            self.state.d = state\n",
    "            q_value = self.forward(self.state)\n",
    "            print(q_value.d)\n",
    "            action  = np.argmax(q_value.d)\n",
    "            print(\"action:\",action)\n",
    "        else:\n",
    "            action = random.randrange(self.action_dim)\n",
    "        return action"
   ]
  },
  {
   "cell_type": "code",
   "execution_count": 41,
   "metadata": {},
   "outputs": [
    {
     "name": "stdout",
     "output_type": "stream",
     "text": [
      "state_num  4\n",
      "action_num  2\n"
     ]
    }
   ],
   "source": [
    "print(\"state_num \",env.observation_space.shape[0])\n",
    "print(\"action_num \",env.action_space.n)\n",
    "\n",
    "model = DQN(env.observation_space.shape[0], env.action_space.n)\n",
    "replay_buffer = ReplayBuffer(replay_buffer_size)\n",
    "\n",
    "losses = []\n",
    "overall_rewards = []\n",
    "episode_reward = 0"
   ]
  },
  {
   "cell_type": "code",
   "execution_count": 42,
   "metadata": {},
   "outputs": [
    {
     "name": "stdout",
     "output_type": "stream",
     "text": [
      "[-0.0429882  -0.03804648 -0.04936629 -0.04296004] 1\n",
      "[-0.04374913 -0.23242705 -0.05022549  0.23374781] 2\n",
      "[-0.04839767 -0.42679674 -0.04555053  0.51017459] 3\n",
      "[-0.05693361 -0.23106368 -0.03534704  0.20349232] 4\n",
      "[-0.06155488 -0.42566277 -0.03127719  0.48481876] 5\n",
      "[-0.07006813 -0.23011372 -0.02158082  0.18244464] 6\n",
      "[-0.07467041 -0.03468972 -0.01793192 -0.11696736] 7\n",
      "[-0.0753642  -0.22955021 -0.02027127  0.17000468] 8\n",
      "[-0.07995521 -0.03414407 -0.01687118 -0.12900366] 9\n",
      "[-0.08063809  0.16121545 -0.01945125 -0.42696113] 10\n",
      "[-0.07741378 -0.03362568 -0.02799047 -0.14047303] 11\n",
      "[-0.07808629  0.16188575 -0.03079993 -0.44185341] 12\n",
      "[-0.07484858  0.3574297  -0.039637   -0.74408398] 13\n",
      "[-0.06769998  0.55307562 -0.05451868 -1.04897259] 14\n",
      "[-0.05663847  0.74887687 -0.07549813 -1.35825863] 15\n",
      "[-0.04166093  0.5547786  -0.10266331 -1.09011597] 16\n",
      "[-0.03056536  0.36114866 -0.12446563 -0.83133034] 17\n",
      "[-0.02334239  0.55773186 -0.14109223 -1.16042252] 18\n",
      "[-0.01218775  0.75438124 -0.16430068 -1.49380906] 19\n",
      "[ 0.00289987  0.95107621 -0.19417686 -1.83296554] 20\n",
      "done\n",
      "[-0.0283703  -0.00041341  0.01349762 -0.04787318] 21\n",
      "[-0.02837857  0.19451243  0.01254015 -0.33626711] 22\n",
      "[-0.02448832 -0.00078572  0.00581481 -0.03965622] 23\n",
      "[-0.02450404  0.19425237  0.00502169 -0.33049885] 24\n",
      "[-0.02061899 -0.00094071 -0.00158829 -0.03623657] 25\n",
      "[-0.0206378   0.19420398 -0.00231302 -0.32942019] 26\n",
      "[-0.01675372  0.38935879 -0.00890142 -0.62283164] 27\n",
      "[-0.00896655  0.19436225 -0.02135806 -0.33296541] 28\n",
      "[[0. 0.]]\n",
      "action: 0\n",
      "[-0.0050793  -0.0004493  -0.02801737 -0.04709352] 29\n",
      "[-0.00508829 -0.19515853 -0.02895924  0.23661967] 30\n",
      "[-0.00899146  0.00036493 -0.02422684 -0.06505537] 31\n",
      "[-0.00898416  0.1958257  -0.02552795 -0.36528249] 32\n",
      "[-0.00506765  0.00107566 -0.0328336  -0.08075701] 33\n"
     ]
    },
    {
     "ename": "NameError",
     "evalue": "name 'compute_td_loss' is not defined",
     "output_type": "error",
     "traceback": [
      "\u001b[0;31m---------------------------------------------------------------------------\u001b[0m",
      "\u001b[0;31mNameError\u001b[0m                                 Traceback (most recent call last)",
      "\u001b[0;32m<ipython-input-42-3c063c103fc6>\u001b[0m in \u001b[0;36m<module>\u001b[0;34m()\u001b[0m\n\u001b[1;32m     15\u001b[0m \u001b[0;34m\u001b[0m\u001b[0m\n\u001b[1;32m     16\u001b[0m     \u001b[0;32mif\u001b[0m \u001b[0mlen\u001b[0m\u001b[0;34m(\u001b[0m\u001b[0mreplay_buffer\u001b[0m\u001b[0;34m)\u001b[0m \u001b[0;34m>\u001b[0m \u001b[0mbatch_size\u001b[0m\u001b[0;34m:\u001b[0m\u001b[0;34m\u001b[0m\u001b[0m\n\u001b[0;32m---> 17\u001b[0;31m         \u001b[0mloss\u001b[0m \u001b[0;34m=\u001b[0m \u001b[0mcompute_td_loss\u001b[0m\u001b[0;34m(\u001b[0m\u001b[0mbatch_size\u001b[0m\u001b[0;34m)\u001b[0m\u001b[0;34m\u001b[0m\u001b[0m\n\u001b[0m\u001b[1;32m     18\u001b[0m         \u001b[0mlosses\u001b[0m\u001b[0;34m.\u001b[0m\u001b[0mappend\u001b[0m\u001b[0;34m(\u001b[0m\u001b[0mloss\u001b[0m\u001b[0;34m.\u001b[0m\u001b[0mdata\u001b[0m\u001b[0;34m[\u001b[0m\u001b[0;36m0\u001b[0m\u001b[0;34m]\u001b[0m\u001b[0;34m)\u001b[0m\u001b[0;34m\u001b[0m\u001b[0m\n\u001b[1;32m     19\u001b[0m \u001b[0;34m\u001b[0m\u001b[0m\n",
      "\u001b[0;31mNameError\u001b[0m: name 'compute_td_loss' is not defined"
     ]
    }
   ],
   "source": [
    "state = env.reset()\n",
    "for frame in range(1, max_frames):\n",
    "    epsilon = epsilon_by_frame(frame)\n",
    "    print(state,frame)\n",
    "    action = model.act(state, epsilon)\n",
    "    next_state, reward, done, _ = env.step(action)\n",
    "    replay_buffer.push(state, action, reward, next_state, done)\n",
    "    state = next_state\n",
    "    episode_reward += reward   \n",
    "    if done:\n",
    "        print(\"done\")\n",
    "        state = env.reset()\n",
    "        overall_rewards.append(episode_reward)\n",
    "        episode_reward = 0\n",
    "        \n",
    "    if len(replay_buffer) > batch_size:\n",
    "        loss = compute_td_loss(batch_size)\n",
    "        losses.append(loss.data[0])\n",
    "        \n",
    "    if frame % 200 == 0:\n",
    "        plot(frame, all_rewards, losses)\n"
   ]
  },
  {
   "cell_type": "code",
   "execution_count": null,
   "metadata": {},
   "outputs": [],
   "source": []
  },
  {
   "cell_type": "code",
   "execution_count": null,
   "metadata": {},
   "outputs": [],
   "source": []
  },
  {
   "cell_type": "code",
   "execution_count": null,
   "metadata": {},
   "outputs": [],
   "source": []
  }
 ],
 "metadata": {
  "kernelspec": {
   "display_name": "nnabla",
   "language": "python",
   "name": "nnabla"
  },
  "language_info": {
   "codemirror_mode": {
    "name": "ipython",
    "version": 3
   },
   "file_extension": ".py",
   "mimetype": "text/x-python",
   "name": "python",
   "nbconvert_exporter": "python",
   "pygments_lexer": "ipython3",
   "version": "3.5.2"
  }
 },
 "nbformat": 4,
 "nbformat_minor": 2
}
