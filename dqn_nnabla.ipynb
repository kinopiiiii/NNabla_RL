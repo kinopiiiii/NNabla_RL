{
 "cells": [
  {
   "cell_type": "code",
   "execution_count": 3,
   "metadata": {},
   "outputs": [
    {
     "name": "stderr",
     "output_type": "stream",
     "text": [
      "2018-08-10 14:38:05,621 [nnabla][INFO]: Initializing CPU extension...\n"
     ]
    }
   ],
   "source": [
    "import math\n",
    "import random\n",
    "import time\n",
    "from jupyterthemes import jtplot\n",
    "jtplot.style()\n",
    "\n",
    "import gym\n",
    "gym.logger.set_level(40)\n",
    "import numpy as np\n",
    "\n",
    "\n",
    "import nnabla as nn\n",
    "import nnabla.logger as logger\n",
    "import nnabla.functions as F\n",
    "import nnabla.parametric_functions as PF\n",
    "import nnabla.solver as S\n",
    "from nnabla.contrib.context import extension_context\n",
    "from nnabla.monitor import Monitor, MonitorSeries, MonitorTimeElapsed"
   ]
  },
  {
   "cell_type": "code",
   "execution_count": 4,
   "metadata": {},
   "outputs": [],
   "source": [
    "from IPython.display import clear_output\n",
    "import matplotlib.pyplot as plt\n",
    "%matplotlib inline"
   ]
  },
  {
   "cell_type": "code",
   "execution_count": 5,
   "metadata": {},
   "outputs": [],
   "source": [
    "env = gym.make(\"CartPole-v0\")\n"
   ]
  },
  {
   "cell_type": "code",
   "execution_count": 6,
   "metadata": {},
   "outputs": [],
   "source": [
    "epsilon_start = 1.0\n",
    "epsilon_final = 0.01\n",
    "epsilon_decay = 500\n",
    "\n",
    "epsilon_by_frame = lambda frame_idx: epsilon_final + (epsilon_start - epsilon_final) * math.exp(-1. * frame_idx / epsilon_decay)"
   ]
  },
  {
   "cell_type": "code",
   "execution_count": 7,
   "metadata": {},
   "outputs": [
    {
     "data": {
      "text/plain": [
       "[<matplotlib.lines.Line2D at 0x7faf1320a940>]"
      ]
     },
     "execution_count": 7,
     "metadata": {},
     "output_type": "execute_result"
    },
    {
     "data": {
      "image/png": "[encoded data removed]",
      "text/plain": [
       "<Figure size 432x288 with 1 Axes>"
      ]
     },
     "metadata": {},
     "output_type": "display_data"
    }
   ],
   "source": [
    "plt.plot([epsilon_by_frame(i) for i in range(10000)])"
   ]
  },
  {
   "cell_type": "code",
   "execution_count": 8,
   "metadata": {},
   "outputs": [],
   "source": [
    "hidden_size = 128\n",
    "max_frames = 50\n",
    "batch_size = 1"
   ]
  },
  {
   "cell_type": "code",
   "execution_count": 18,
   "metadata": {},
   "outputs": [],
   "source": [
    "class DQN:\n",
    "    def __init__(self, num_states, num_actions):\n",
    "        self.state_dim = num_states\n",
    "        self.action_dim = num_actions \n",
    "        self.state = nn.Variable([batch_size, self.state_dim])\n",
    "    \n",
    "    def forward(self, x):\n",
    "        with nn.parameter_scope(\"DQN\"):\n",
    "            with nn.parameter_scope(\"affine1\"):\n",
    "                h = F.relu(PF.affine(x, hidden_size))\n",
    "            with nn.parameter_scope(\"affine2\"):\n",
    "                h = F.relu(PF.affine(h, hidden_size))\n",
    "            with nn.parameter_scope(\"affine3\"):\n",
    "                y = PF.affine(h, self.action_dim)\n",
    "        return y\n",
    "    \n",
    "    def act(self, state, epsilon):\n",
    "        if random.random() > epsilon:\n",
    "            self.state.d = state\n",
    "            q_value = self.forward(self.state)\n",
    "            print(q_value.d)\n",
    "            action  = np.argmax(q_value.d)\n",
    "            print(\"action:\",action)\n",
    "        else:\n",
    "            action = random.randrange(self.action_dim)\n",
    "        return action"
   ]
  },
  {
   "cell_type": "code",
   "execution_count": 19,
   "metadata": {},
   "outputs": [
    {
     "name": "stdout",
     "output_type": "stream",
     "text": [
      "state_num  4\n",
      "action_num  2\n",
      "[[0. 0.]]\n",
      "action: 0\n"
     ]
    },
    {
     "data": {
      "text/plain": [
       "0"
      ]
     },
     "execution_count": 19,
     "metadata": {},
     "output_type": "execute_result"
    }
   ],
   "source": [
    "print(\"state_num \",env.observation_space.shape[0])\n",
    "print(\"action_num \",env.action_space.n)\n",
    "\n",
    "model = DQN(env.observation_space.shape[0], env.action_space.n)\n",
    "#z = np.random.randn(1,4)\n",
    "#z2 = nn.Variable.from_numpy_array(np.random.randn(4))\n",
    "#model.act(z,0.0)"
   ]
  },
  {
   "cell_type": "code",
   "execution_count": 23,
   "metadata": {},
   "outputs": [
    {
     "name": "stdout",
     "output_type": "stream",
     "text": [
      "[0.00556203 0.0230772  0.02182349 0.00785329] 1\n",
      "[ 0.00602357 -0.17235082  0.02198056  0.30734112] 2\n",
      "[0.00257656 0.02245114 0.02812738 0.02167053] 3\n",
      "[ 0.00302558  0.21715866  0.02856079 -0.26200687] 4\n",
      "[0.00736875 0.02164091 0.02332065 0.03954589] 5\n",
      "[ 0.00780157 -0.17380756  0.02411157  0.33949452] 6\n",
      "[0.00432542 0.02096315 0.03090146 0.05451148] 7\n",
      "[ 0.00474468  0.21562871  0.03199169 -0.22826386] 8\n",
      "[0.00905726 0.02006453 0.02742641 0.07433626] 9\n",
      "[ 0.00945855 -0.17543966  0.02891314  0.3755446 ] 10\n",
      "[ 0.00594976 -0.3709601   0.03642403  0.67720196] 11\n",
      "[-0.00146945 -0.17636265  0.04996807  0.3962057 ] 12\n",
      "[-0.0049967  -0.37215663  0.05789218  0.7042146 ] 13\n",
      "[-0.01243983 -0.17788268  0.07197647  0.43030267] 14\n",
      "[-0.01599749  0.01615015  0.08058253  0.16114982] 15\n",
      "[-0.01567448  0.21003154  0.08380552 -0.10506292] 16\n",
      "[-0.01147385  0.40385875  0.08170427 -0.37017334] 17\n",
      "[[0. 0.]]\n",
      "action: 0\n",
      "[-0.00339668  0.20767677  0.0743008  -0.05288771] 18\n",
      "[ 0.00075686  0.40165904  0.07324305 -0.32123397] 19\n",
      "[ 0.00879004  0.59566568  0.06681837 -0.58994951] 20\n",
      "[ 0.02070335  0.39967491  0.05501938 -0.2769894 ] 21\n",
      "[0.02869685 0.20381295 0.04947959 0.03252652] 22\n",
      "[ 0.03277311  0.39819171  0.05013012 -0.24414372] 23\n",
      "[ 0.04073694  0.59256313  0.04524724 -0.52060249] 24\n",
      "[[0. 0.]]\n",
      "action: 0\n",
      "[ 0.05258821  0.39683441  0.03483519 -0.21401175] 25\n",
      "[ 0.06052489  0.59144146  0.03055496 -0.49550576] 26\n",
      "[ 0.07235372  0.78611951  0.02064484 -0.77840476] 27\n",
      "[ 0.08807611  0.59071986  0.00507675 -0.47929859] 28\n",
      "[ 0.09989051  0.78576977 -0.00450922 -0.77037714] 29\n",
      "[ 0.11560591  0.59071017 -0.01991677 -0.47911641] 30\n",
      "[ 0.12742011  0.39587497 -0.02949909 -0.19277672] 31\n",
      "[ 0.13533761  0.20118716 -0.03335463  0.09045647] 32\n",
      "[ 0.13936135  0.39677093 -0.0315455  -0.21256045] 33\n",
      "[ 0.14729677  0.20211386 -0.03579671  0.07000704] 34\n",
      "[ 0.15133905  0.00752292 -0.03439657  0.35118448] 35\n",
      "[[0. 0.]]\n",
      "action: 0\n",
      "[ 0.15148951 -0.18709342 -0.02737288  0.63282572] 36\n",
      "[ 0.14774764 -0.38182302 -0.01471636  0.91676408] 37\n",
      "[ 0.14011118 -0.18650521  0.00361892  0.61949263] 38\n",
      "[0.13638107 0.00856601 0.01600877 0.32795167] 39\n",
      "[ 0.13655239 -0.18678015  0.0225678   0.62563974] 40\n",
      "[ 0.13281679 -0.38220975  0.0350806   0.92534386] 41\n",
      "[[0. 0.]]\n",
      "action: 0\n",
      "[ 0.1251726  -0.57778749  0.05358748  1.22884156] 42\n",
      "[ 0.11361685 -0.38339449  0.07816431  0.9534178 ] 43\n",
      "[ 0.10594896 -0.18940626  0.09723266  0.68628083] 44\n",
      "[0.10216083 0.00424107 0.11095828 0.42572321] 45\n",
      "[ 0.10224565 -0.19226328  0.11947274  0.75122195] 46\n",
      "[[0. 0.]]\n",
      "action: 0\n",
      "[ 0.09840039 -0.38881246  0.13449718  1.07898559] 47\n",
      "[ 0.09062414 -0.58542913  0.15607689  1.41067016] 48\n",
      "[ 0.07891556 -0.78210377  0.1842903   1.74779669] 49\n",
      "done\n"
     ]
    },
    {
     "data": {
      "text/plain": [
       "'    \\n    state = next_state\\n    episode_reward += reward\\n    \\n    if done:\\n        state = env.reset()\\n        all_rewards.append(episode_reward)\\n        episode_reward = 0\\n        \\n    if len(replay_buffer) > batch_size:\\n        loss = compute_td_loss(batch_size)\\n        losses.append(loss.data[0])\\n        \\n    if frame_idx % 200 == 0:\\n        plot(frame_idx, all_rewards, losses)\\n        \\n'"
      ]
     },
     "execution_count": 23,
     "metadata": {},
     "output_type": "execute_result"
    }
   ],
   "source": [
    "state = env.reset()\n",
    "for frame in range(1, max_frames):\n",
    "    epsilon = epsilon_by_frame(frame)\n",
    "    print(state,frame)\n",
    "    action = model.act(state, epsilon)\n",
    "#    print(action)\n",
    "    next_state, reward, done, _ = env.step(action)\n",
    "#    replay_buffer.push(state, action, reward, next_state, done)\n",
    "    state = next_state\n",
    "#   episode_reward += reward   \n",
    "    if done:\n",
    "        print(\"done\")\n",
    "        state = env.reset()\n",
    "\"\"\"    \n",
    "    state = next_state\n",
    "    episode_reward += reward\n",
    "    \n",
    "    if done:\n",
    "        state = env.reset()\n",
    "        all_rewards.append(episode_reward)\n",
    "        episode_reward = 0\n",
    "        \n",
    "    if len(replay_buffer) > batch_size:\n",
    "        loss = compute_td_loss(batch_size)\n",
    "        losses.append(loss.data[0])\n",
    "        \n",
    "    if frame_idx % 200 == 0:\n",
    "        plot(frame_idx, all_rewards, losses)\n",
    "        \n",
    "\"\"\" "
   ]
  },
  {
   "cell_type": "code",
   "execution_count": null,
   "metadata": {},
   "outputs": [],
   "source": []
  },
  {
   "cell_type": "code",
   "execution_count": null,
   "metadata": {},
   "outputs": [],
   "source": []
  },
  {
   "cell_type": "code",
   "execution_count": null,
   "metadata": {},
   "outputs": [],
   "source": []
  }
 ],
 "metadata": {
  "kernelspec": {
   "display_name": "nnabla",
   "language": "python",
   "name": "nnabla"
  },
  "language_info": {
   "codemirror_mode": {
    "name": "ipython",
    "version": 3
   },
   "file_extension": ".py",
   "mimetype": "text/x-python",
   "name": "python",
   "nbconvert_exporter": "python",
   "pygments_lexer": "ipython3",
   "version": "3.5.2"
  }
 },
 "nbformat": 4,
 "nbformat_minor": 2
}
