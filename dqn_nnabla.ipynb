{
 "cells": [
  {
   "cell_type": "code",
   "execution_count": 6,
   "metadata": {},
   "outputs": [
    {
     "name": "stderr",
     "output_type": "stream",
     "text": [
      "2018-08-09 20:19:07,103 [nnabla][INFO]: Initializing CPU extension...\n"
     ]
    }
   ],
   "source": [
    "import math\n",
    "import random\n",
    "import time\n",
    "from jupyterthemes import jtplot\n",
    "jtplot.style()\n",
    "\n",
    "import gym\n",
    "gym.logger.set_level(40)\n",
    "import numpy as np\n",
    "\n",
    "\n",
    "import nnabla as nn\n",
    "import nnabla.logger as logger\n",
    "import nnabla.functions as F\n",
    "import nnabla.parametric_functions as PF\n",
    "import nnabla.solver as S\n",
    "from nnabla.contrib.context import extension_context\n",
    "from nnabla.monitor import Monitor, MonitorSeries, MonitorTimeElapsed"
   ]
  },
  {
   "cell_type": "code",
   "execution_count": 7,
   "metadata": {},
   "outputs": [],
   "source": [
    "from IPython.display import clear_output\n",
    "import matplotlib.pyplot as plt\n",
    "%matplotlib inline"
   ]
  },
  {
   "cell_type": "code",
   "execution_count": 12,
   "metadata": {},
   "outputs": [],
   "source": [
    "env = gym.make(\"CartPole-v0\")\n"
   ]
  },
  {
   "cell_type": "code",
   "execution_count": 13,
   "metadata": {},
   "outputs": [],
   "source": [
    "epsilon_start = 1.0\n",
    "epsilon_final = 0.01\n",
    "epsilon_decay = 500\n",
    "\n",
    "epsilon_by_frame = lambda frame_idx: epsilon_final + (epsilon_start - epsilon_final) * math.exp(-1. * frame_idx / epsilon_decay)"
   ]
  },
  {
   "cell_type": "code",
   "execution_count": 14,
   "metadata": {},
   "outputs": [
    {
     "data": {
      "text/plain": [
       "[<matplotlib.lines.Line2D at 0x7f5051ba6470>]"
      ]
     },
     "execution_count": 14,
     "metadata": {},
     "output_type": "execute_result"
    },
    {
     "data": {
      "image/png": "[encoded data removed]",
      "text/plain": [
       "<Figure size 432x288 with 1 Axes>"
      ]
     },
     "metadata": {},
     "output_type": "display_data"
    }
   ],
   "source": [
    "plt.plot([epsilon_by_frame(i) for i in range(10000)])"
   ]
  },
  {
   "cell_type": "code",
   "execution_count": 74,
   "metadata": {},
   "outputs": [],
   "source": [
    "hidden_size = 128"
   ]
  },
  {
   "cell_type": "code",
   "execution_count": 102,
   "metadata": {},
   "outputs": [],
   "source": [
    "class DQN:\n",
    "    def __init__(self, num_states, num_actions):\n",
    "        self.state_dim = num_states\n",
    "        self.action_dim = num_actions \n",
    "    \n",
    "    def forward(self, x):\n",
    "        with nn.parameter_scope(\"DQN\"):\n",
    "            with nn.parameter_scope(\"affine1\"):\n",
    "                h = F.relu(PF.affine(x, hidden_size))\n",
    "            with nn.parameter_scope(\"affine2\"):\n",
    "                h = F.relu(PF.affine(h, hidden_size))\n",
    "            with nn.parameter_scope(\"affine3\"):\n",
    "                y = PF.affine(h, self.action_dim)\n",
    "        return y\n",
    "    \n",
    "    def act(self, state, epsilon):\n",
    "        if random.random() > epsilon:\n",
    "            state = nn.Variable.from_numpy_array(state)\n",
    "            q_value = self.forward(state)\n",
    "            action  = q_value.max(1)[1].data[0]\n",
    "        else:\n",
    "            action = random.randrange(self.action_dim)\n",
    "        return action\n",
    "        \n",
    "        "
   ]
  },
  {
   "cell_type": "code",
   "execution_count": 106,
   "metadata": {},
   "outputs": [
    {
     "name": "stdout",
     "output_type": "stream",
     "text": [
      "state_num  4\n",
      "action_num  2\n"
     ]
    }
   ],
   "source": [
    "print(\"state_num \",env.observation_space.shape[0])\n",
    "print(\"action_num \",env.action_space.n)\n",
    "\n",
    "model = DQN(env.observation_space.shape[0], env.action_space.n)"
   ]
  },
  {
   "cell_type": "code",
   "execution_count": 104,
   "metadata": {},
   "outputs": [
    {
     "name": "stdout",
     "output_type": "stream",
     "text": [
      "[[-1.61238436 -1.06501107  1.11726521 -1.6813401   1.41740739]\n",
      " [-0.77844256 -1.64813031 -1.10063587  2.1590195   0.57423198]\n",
      " [-1.1277399   0.7254654   1.81602247 -0.30401144  0.08078209]\n",
      " [ 0.87250428 -1.17729786 -0.0251787   0.14500444  1.00670572]\n",
      " [ 0.99756096  0.25598537 -0.64710213  0.80288777  0.92306184]\n",
      " [-0.14986729  0.68140972 -0.98310185 -2.35202286  0.97241416]\n",
      " [-0.53753901 -1.52961832 -0.4724932   0.25484219  1.55171752]\n",
      " [-0.04530018  1.08325541 -0.13385044  0.53559444  0.90598798]\n",
      " [ 1.22821492 -0.82249445  0.53066313 -1.05007891 -0.14049199]\n",
      " [ 2.02928124  0.13450268  0.15676771  0.33442315  0.54670278]]\n",
      "[[ 1.2093556e-13  1.8760711e+00  5.2405762e-14]\n",
      " [ 1.6250106e+00 -1.6821253e+00 -1.9178609e+00]\n",
      " [ 5.4467824e-16  1.5653200e+00  7.7465731e-31]\n",
      " [ 1.8932124e+00  9.1531882e-26  1.7996063e+00]\n",
      " [ 1.3307964e-24 -1.7967886e+00  4.3277005e-31]\n",
      " [-1.8993145e+00 -1.8956823e+21  1.5765032e+00]\n",
      " [ 1.3226967e-31 -1.2163416e+00 -3.3152811e+11]\n",
      " [ 1.9188713e+00  1.1688897e-05 -1.7352887e+00]\n",
      " [-3.0474825e+31  1.8733561e+00  2.4818448e-02]\n",
      " [ 1.6803014e+00 -1.1515550e-17 -1.6526434e+00]]\n"
     ]
    }
   ],
   "source": []
  },
  {
   "cell_type": "code",
   "execution_count": null,
   "metadata": {},
   "outputs": [],
   "source": []
  }
 ],
 "metadata": {
  "kernelspec": {
   "display_name": "nnabla",
   "language": "python",
   "name": "nnabla"
  },
  "language_info": {
   "codemirror_mode": {
    "name": "ipython",
    "version": 3
   },
   "file_extension": ".py",
   "mimetype": "text/x-python",
   "name": "python",
   "nbconvert_exporter": "python",
   "pygments_lexer": "ipython3",
   "version": "3.5.2"
  }
 },
 "nbformat": 4,
 "nbformat_minor": 2
}
