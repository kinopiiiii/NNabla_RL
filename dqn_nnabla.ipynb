{
 "cells": [
  {
   "cell_type": "code",
   "execution_count": 21,
   "metadata": {},
   "outputs": [],
   "source": [
    "import math\n",
    "import random\n",
    "import time\n",
    "from jupyterthemes import jtplot\n",
    "jtplot.style()\n",
    "\n",
    "import gym\n",
    "gym.logger.set_level(40)\n",
    "import numpy as np\n",
    "\n",
    "\n",
    "import nnabla as nn\n",
    "import nnabla.logger as logger\n",
    "import nnabla.functions as F\n",
    "import nnabla.parametric_functions as PF\n",
    "import nnabla.solver as S\n",
    "from nnabla.contrib.context import extension_context\n",
    "from nnabla.monitor import Monitor, MonitorSeries, MonitorTimeElapsed"
   ]
  },
  {
   "cell_type": "code",
   "execution_count": 22,
   "metadata": {},
   "outputs": [],
   "source": [
    "from IPython.display import clear_output\n",
    "import matplotlib.pyplot as plt\n",
    "%matplotlib inline"
   ]
  },
  {
   "cell_type": "code",
   "execution_count": 23,
   "metadata": {},
   "outputs": [],
   "source": [
    "epsilon_start = 1.0\n",
    "epsilon_final = 0.01\n",
    "epsilon_decay = 500\n",
    "epsilon_by_frame = lambda frame_idx: epsilon_final + (epsilon_start - epsilon_final) * math.exp(-1. * frame_idx / epsilon_decay)"
   ]
  },
  {
   "cell_type": "code",
   "execution_count": 24,
   "metadata": {},
   "outputs": [],
   "source": [
    "from collections import deque\n",
    "class ReplayBuffer(object):\n",
    "    def __init__(self, capacity):\n",
    "        self.buffer = deque(maxlen=capacity)\n",
    "    \n",
    "    def push(self, state, action, reward, next_state, done):\n",
    "        state      = np.expand_dims(state, 0)\n",
    "        next_state = np.expand_dims(next_state, 0)\n",
    "        self.buffer.append((state, action, reward, next_state, done))\n",
    "    \n",
    "    def sample(self, batch_size):\n",
    "        state, action, reward, next_state, done = zip(*random.sample(self.buffer, batch_size))\n",
    "        return np.concatenate(state), action, reward, np.concatenate(next_state), done\n",
    "    \n",
    "    def __len__(self):\n",
    "        return len(self.buffer)"
   ]
  },
  {
   "cell_type": "code",
   "execution_count": 211,
   "metadata": {},
   "outputs": [],
   "source": [
    "hidden_size = 128\n",
    "max_frames = 2000\n",
    "state_size = 1\n",
    "batch_size = 32\n",
    "replay_buffer_size = 1000\n",
    "gamma = 0.99\n",
    "learning_rate = 1e-3"
   ]
  },
  {
   "cell_type": "code",
   "execution_count": 212,
   "metadata": {},
   "outputs": [],
   "source": [
    "class DQN:\n",
    "    def __init__(self, num_states, num_actions):\n",
    "        self.state_dim = num_states\n",
    "        self.action_dim = num_actions \n",
    "        self.state = nn.Variable([state_size, self.state_dim])\n",
    "    \n",
    "    def forward(self, x):\n",
    "        with nn.parameter_scope(\"DQN\"):\n",
    "            with nn.parameter_scope(\"affine1\"):\n",
    "                h = F.relu(PF.affine(x, hidden_size))\n",
    "            with nn.parameter_scope(\"affine2\"):\n",
    "                h = F.relu(PF.affine(h, hidden_size))\n",
    "            with nn.parameter_scope(\"affine3\"):\n",
    "                y = PF.affine(h, self.action_dim)\n",
    "        return y\n",
    "    \n",
    "    def act(self, state, epsilon):\n",
    "        if random.random() > epsilon:\n",
    "            self.state.d = state\n",
    "            q_value = self.forward(self.state)\n",
    "            print(q_value.d)\n",
    "            action  = np.argmax(q_value.d)\n",
    "            print(\"action:\",action)\n",
    "        else:\n",
    "            action = random.randrange(self.action_dim)\n",
    "        return action\n",
    "    \n"
   ]
  },
  {
   "cell_type": "code",
   "execution_count": 213,
   "metadata": {},
   "outputs": [
    {
     "name": "stdout",
     "output_type": "stream",
     "text": [
      "state_num  4\n",
      "action_num  2\n"
     ]
    }
   ],
   "source": [
    "env = gym.make(\"CartPole-v0\")\n",
    "print(\"state_num \",env.observation_space.shape[0])\n",
    "print(\"action_num \",env.action_space.n)\n",
    "\n",
    "model = DQN(env.observation_space.shape[0], env.action_space.n)\n",
    "replay_buffer = ReplayBuffer(replay_buffer_size)\n",
    "\n",
    "DQN_solver = S.Adam(learning_rate)\n",
    "with nn.parameter_scope(\"DQN\"):\n",
    "    DQN_solver.set_parameters(nn.get_parameters())\n",
    "\n",
    "losses = []\n",
    "overall_rewards = []\n",
    "episode_reward = 0"
   ]
  },
  {
   "cell_type": "code",
   "execution_count": 214,
   "metadata": {},
   "outputs": [],
   "source": [
    "def compute_td_loss(batch_size):\n",
    "    state, action, reward, next_state, done = replay_buffer.sample(batch_size)\n",
    "#    state      = Variable(torch.FloatTensor(np.float32(state)))\n",
    "#    next_state = Variable(torch.FloatTensor(np.float32(next_state)), volatile=True)\n",
    "#    action     = Variable(torch.LongTensor(action))\n",
    "#    reward     = Variable(torch.FloatTensor(reward))\n",
    "#    done       = Variable(torch.FloatTensor(done))\n",
    "    state, action, reward, next_state, done = replay_buffer.sample(batch_size)\n",
    "    State = nn.Variable.from_numpy_array(state)\n",
    "    Next_State = nn.Variable.from_numpy_array(next_state)\n",
    "    Action = nn.Variable(action)\n",
    "    Reward = nn.Variable(reward)\n",
    "    Done = nn.Variable(done)\n",
    "#    print(\"action\",action)\n",
    "    \n",
    "    q_values = model.forward(State)\n",
    "#    print(\"q_values.d\",q_values.d)\n",
    "    q_values = np.array([q_values.d[i,action[i]] for i in range(batch_size)])\n",
    "#    print(\"q_values\",q_values)\n",
    "\n",
    "    next_q_values = model.forward(Next_State)\n",
    "#    print(\"next_q_values.d\",next_q_values.d)\n",
    "    next_q_values = next_q_values.d.max(axis=1)\n",
    "#    print(\"next_q_values\", next_q_values)\n",
    "    reward = np.array(reward)\n",
    "    done = np.array(done)\n",
    "#    print(\"Reward\",reward)\n",
    "#    print(\"next_q_value\",next_q_values)\n",
    "    expected_q_value = reward + gamma * next_q_values * (1 - done)\n",
    "#    print(\"type\",type(q_values),type(expected_q_value))\n",
    "    q_values = nn.Variable.from_numpy_array(q_values)\n",
    "    expected_q_value = nn.Variable.from_numpy_array(expected_q_value)\n",
    "#    print(\"type\",type(q_values),type(expected_q_value))\n",
    "    DQN_loss = F.squared_error(q_values, expected_q_value)\n",
    "    \n",
    "    DQN_solver.zero_grad()\n",
    "    DQN_loss.forward()\n",
    "    DQN_loss.backward()\n",
    "    DQN_solver.update()\n",
    "    \n",
    "    return DQN_loss"
   ]
  },
  {
   "cell_type": "code",
   "execution_count": 215,
   "metadata": {},
   "outputs": [
    {
     "name": "stdout",
     "output_type": "stream",
     "text": [
      "[ 0.005859   -0.01475264  0.03807998 -0.0389824 ] 1\n",
      "[ 0.00556395  0.17980314  0.03730033 -0.3194117 ] 2\n",
      "[ 0.00916001 -0.01582963  0.0309121  -0.01520289] 3\n",
      "[ 0.00884342  0.17883567  0.03060804 -0.29797465] 4\n",
      "[ 0.01242013 -0.01670892  0.02464855  0.00420221] 5\n",
      "[ 0.01208596 -0.21217553  0.02473259  0.30455901] 6\n",
      "[ 0.00784244 -0.40764105  0.03082377  0.60493827] 7\n",
      "[-3.10376432e-04 -6.03180191e-01  4.29225369e-02  9.07168399e-01] 8\n",
      "[-0.01237398 -0.40866481  0.0610659   0.62827941] 9\n",
      "[-0.02054728 -0.60458347  0.07363149  0.93955184] 10\n",
      "[-0.03263895 -0.80061661  0.09242253  1.25443291] 11\n",
      "[-0.04865128 -0.60679171  0.11751119  0.99206996] 12\n",
      "[-0.06078711 -0.41342148  0.13735259  0.73848381] 13\n",
      "[-0.06905554 -0.22043656  0.15212226  0.49198756] 14\n",
      "[-0.07346427 -0.41734004  0.16196201  0.82848357] 15\n",
      "[-0.08181107 -0.61426169  0.17853169  1.16740925] 16\n",
      "[-0.09409631 -0.42185396  0.20187987  0.93559492] 17\n",
      "done\n",
      "[-0.01409046  0.03988075 -0.03985705  0.03111267] 18\n",
      "[-0.01329285  0.23555093 -0.0392348  -0.27387438] 19\n",
      "[-0.00858183  0.4312101  -0.04471229 -0.57866933] 20\n",
      "[ 4.23738585e-05  6.26929218e-01 -5.62856732e-02 -8.85095639e-01] 21\n",
      "[ 0.01258096  0.43261478 -0.07398759 -0.61062482] 22\n",
      "[ 0.02123325  0.62868867 -0.08620008 -0.92566352] 23\n",
      "[ 0.03380703  0.43483001 -0.10471335 -0.66126666] 24\n",
      "[ 0.04250363  0.63124115 -0.11793869 -0.98499912] 25\n",
      "[ 0.05512845  0.82772845 -0.13763867 -1.3122763 ] 26\n",
      "[ 0.07168302  0.63459112 -0.16388419 -1.06564826] 27\n",
      "[ 0.08437484  0.83145736 -0.18519716 -1.40495747] 28\n",
      "done\n",
      "[ 0.03402918  0.01990774 -0.03084644  0.04325479] 29\n",
      "[ 0.03442733  0.21545812 -0.02998134 -0.25899867] 30\n",
      "[ 0.03873649  0.02077673 -0.03516131  0.02407899] 31\n",
      "[[7.309675e-37 0.000000e+00]]\n",
      "action: 0\n",
      "[ 0.03915203 -0.1738238  -0.03467973  0.30546406] 32\n",
      "[ 0.03567555  0.02177475 -0.02857045  0.00204885] 33\n",
      "[ 0.03611105  0.21729455 -0.02852947 -0.29950972] 34\n",
      "[ 0.04045694  0.41281129 -0.03451967 -0.60105202] 35\n",
      "[ 0.04871316  0.21818881 -0.04654071 -0.31943898] 36\n",
      "[ 0.05307694  0.02375952 -0.05292949 -0.04178887] 37\n",
      "[ 0.05355213  0.21959894 -0.05376527 -0.35069062] 38\n",
      "[ 0.05794411  0.02528119 -0.06077908 -0.07543455] 39\n",
      "[ 0.05844973 -0.16891915 -0.06228777  0.19747003] 40\n",
      "[ 0.05507135 -0.36309743 -0.05833837  0.46987184] 41\n",
      "[ 0.0478094  -0.55734886 -0.04894093  0.74361154] 42\n",
      "[ 0.03666242 -0.36158682 -0.0340687   0.43593719] 43\n",
      "[ 0.02943069 -0.16599957 -0.02534996  0.1327123 ] 44\n",
      "[ 0.0261107   0.02947616 -0.02269571 -0.16785917] 45\n",
      "[ 0.02670022 -0.1653137  -0.0260529   0.1175784 ] 46\n",
      "[ 0.02339395  0.03017166 -0.02370133 -0.18320882] 47\n",
      "[ 0.02399738 -0.16460328 -0.0273655   0.10190399] 48\n",
      "[ 0.02070531  0.03089995 -0.02532742 -0.19928551] 49\n",
      "[ 0.02132331 -0.16385077 -0.02931313  0.08530141] 50\n",
      "[ 0.0180463  -0.35854053 -0.02760711  0.36859378] 51\n",
      "[ 0.01087549 -0.16303742 -0.02023523  0.06733539] 52\n",
      "[ 0.00761474 -0.3578635  -0.01888852  0.35356593] 53\n",
      "[ 0.00045747 -0.16247813 -0.0118172   0.05498725] 54\n",
      "[[7.309675e-37 0.000000e+00]]\n",
      "action: 0\n",
      "[-0.00279209 -0.35742866 -0.01071746  0.34391846] 55\n",
      "[-0.00994067 -0.16215589 -0.00383909  0.04787526] 56\n",
      "[-0.01318379 -0.35722259 -0.00288158  0.33934445] 57\n",
      "[-0.02032824 -0.16205975  0.0039053   0.04575423] 58\n",
      "[-0.02356943  0.03300598  0.00482039 -0.24569398] 59\n",
      "[-2.29093122e-02 -1.62184482e-01 -9.34906592e-05  4.85055041e-02] 60\n",
      "[-0.026153   -0.35730509  0.00087662  0.34115893] 61\n",
      "[[7.309675e-37 0.000000e+00]]\n",
      "action: 0\n",
      "[-0.0332991  -0.55243951  0.0076998   0.63411817] 62\n",
      "[-0.04434789 -0.3574258   0.02038216  0.34387   ] 63\n",
      "[-0.05149641 -0.16259965  0.02725956  0.05768341] 64\n",
      "[-0.0547484  -0.35810163  0.02841323  0.35884076] 65\n",
      "[-0.06191044 -0.16339488  0.03559004  0.07525088] 66\n",
      "[-0.06517833 -0.3590085   0.03709506  0.37894675] 67\n"
     ]
    },
    {
     "name": "stderr",
     "output_type": "stream",
     "text": [
      "/home/near/nnabla/lib/python3.5/site-packages/ipykernel_launcher.py:29: RuntimeWarning: invalid value encountered in multiply\n"
     ]
    },
    {
     "name": "stdout",
     "output_type": "stream",
     "text": [
      "[-0.0723585  -0.16443244  0.044674    0.0981869 ] 68\n",
      "[-0.07564715 -0.36016525  0.04663774  0.40462297] 69\n",
      "[-0.08285046 -0.5559165   0.05473019  0.71163711] 70\n",
      "[-0.09396879 -0.36159342  0.06896294  0.43667157] 71\n",
      "[-0.10120066 -0.55762034  0.07769637  0.75027205] 72\n",
      "[-0.11235306 -0.36365107  0.09270181  0.48301567] 73\n",
      "[-0.11962608 -0.55995074  0.10236212  0.80341621] 74\n",
      "[-0.1308251  -0.36637013  0.11843045  0.54460715] 75\n",
      "[-0.1381525  -0.56293973  0.12932259  0.8721334 ] 76\n",
      "[-0.1494113  -0.36979119  0.14676526  0.62274488] 77\n",
      "[-0.15680712 -0.17699034  0.15922016  0.37964697] 78\n",
      "[-0.16034693 -0.37397274  0.16681309  0.71799637] 79\n",
      "[-0.16782638 -0.570962    0.18117302  1.05819456] 80\n",
      "[-0.17924562 -0.76796093  0.20233691  1.40183048] 81\n",
      "done\n",
      "[-0.01337337  0.01679464 -0.03163923 -0.04130588] 82\n",
      "[-0.01303748  0.21235567 -0.03246534 -0.34380099] 83\n",
      "[-0.00879037  0.01771026 -0.03934136 -0.06152986] 84\n",
      "[-0.00843616  0.21337354 -0.04057196 -0.36636107] 85\n",
      "[[7.309675e-37 0.000000e+00]]\n",
      "action: 0\n",
      "[-0.00416869  0.01885092 -0.04789918 -0.08674214] 86\n",
      "[-0.00379167  0.21462557 -0.04963402 -0.39414427] 87\n",
      "[ 5.00840858e-04  4.10415398e-01 -5.75169092e-02 -7.02053746e-01] 88\n",
      "[ 0.00870915  0.6062854  -0.07155798 -1.01227356] 89\n",
      "[ 0.02083486  0.41218732 -0.09180346 -0.74289163] 90\n",
      "[ 0.0290786   0.21844436 -0.10666129 -0.48045328] 91\n",
      "[ 0.03344749  0.02497698 -0.11627035 -0.22320039] 92\n",
      "[ 0.03394703  0.22155222 -0.12073436 -0.55017892] 93\n",
      "[ 0.03837807  0.02831454 -0.13173794 -0.29784214] 94\n",
      "[ 0.03894437 -0.16470755 -0.13769478 -0.04943681] 95\n",
      "[[7.309675e-37 0.000000e+00]]\n",
      "action: 0\n",
      "[ 0.03565021 -0.35761402 -0.13868352  0.19682965] 96\n",
      "[[7.309675e-37 0.000000e+00]]\n",
      "action: 0\n",
      "[ 0.02849793 -0.55050795 -0.13474693  0.44275016] 97\n",
      "[[7.309675e-37 0.000000e+00]]\n",
      "action: 0\n",
      "[ 0.01748777 -0.74349159 -0.12589192  0.69010581] 98\n",
      "[ 0.00261794 -0.54686834 -0.11208981  0.36059048] 99\n",
      "[-0.00831942 -0.74023336 -0.104878    0.61593238] 100\n",
      "[-0.02312409 -0.93374578 -0.09255935  0.87382845] 101\n",
      "[-0.04179901 -1.12749561 -0.07508278  1.13603555] 102\n",
      "[[7.309675e-37 0.000000e+00]]\n",
      "action: 0\n",
      "[-0.06434892 -1.32155935 -0.05236207  1.40425743] 103\n",
      "[-0.09078011 -1.12582775 -0.02427692  1.09567501] 104\n",
      "[-0.11329666 -0.93039462 -0.00236342  0.79547499] 105\n",
      "[-0.13190455 -0.73524032  0.01354608  0.5020495 ] 106\n",
      "[-0.14660936 -0.5403119   0.02358707  0.21366613] 107\n",
      "[-0.1574156  -0.73576299  0.02786039  0.51369517] 108\n",
      "[-0.17213086 -0.54104428  0.0381343   0.22992035] 109\n",
      "[-0.18295174 -0.34648742  0.0427327  -0.050494  ] 110\n",
      "[-0.18988149 -0.54219524  0.04172282  0.25535932] 111\n",
      "[-0.2007254  -0.73788729  0.04683001  0.5609049 ] 112\n",
      "[-0.21548314 -0.54345278  0.05804811  0.28333587] 113\n",
      "[-0.2263522  -0.34920475  0.06371482  0.00951115] 114\n",
      "[[7.309675e-37 0.000000e+00]]\n",
      "action: 0\n",
      "[-0.23333629 -0.54517986  0.06390505  0.32159681] 115\n",
      "[-0.24423989 -0.74115088  0.07033698  0.63372862] 116\n",
      "[-0.25906291 -0.54707694  0.08301156  0.36399954] 117\n",
      "[-0.27000445 -0.74327452  0.09029155  0.68165989] 118\n",
      "[-0.28486994 -0.54951485  0.10392475  0.41871397] 119\n",
      "[-0.29586023 -0.35600726  0.11229902  0.16051753] 120\n",
      "[-0.30298038 -0.55254282  0.11550937  0.4864105 ] 121\n",
      "[-0.31403124 -0.74908902  0.12523759  0.81314947] 122\n",
      "[-0.32901302 -0.55588443  0.14150057  0.56233602] 123\n",
      "[[7.309675e-37 0.000000e+00]]\n",
      "action: 0\n",
      "[-0.3401307  -0.75267882  0.15274729  0.8960398 ] 124\n",
      "[-0.35518428 -0.94950488  0.17066809  1.23257463] 125\n",
      "[-0.37417438 -0.75693802  0.19531958  0.99785408] 126\n",
      "[[7.309675e-37 0.000000e+00]]\n",
      "action: 0\n",
      "done\n",
      "[-0.00739751 -0.00047127  0.03540165  0.0412802 ] 127\n",
      "[[7.309675e-37 0.000000e+00]]\n",
      "action: 0\n",
      "[-0.00740694 -0.19608252  0.03622726  0.34491914] 128\n",
      "[-0.01132859 -0.00149414  0.04312564  0.06387657] 129\n",
      "[-0.01135847 -0.19720702  0.04440317  0.36984795] 130\n",
      "[-0.01530261 -0.00274315  0.05180013  0.0914899 ] 131\n",
      "[-0.01535748  0.19159954  0.05362993 -0.18441069] 132\n",
      "[-0.01152548 -0.00424711  0.04994172  0.12469657] 133\n",
      "[-0.01161043  0.19012511  0.05243565 -0.15182148] 134\n",
      "[-0.00780792  0.38445855  0.04939922 -0.42751198] 135\n",
      "[-1.18753942e-04  5.78847318e-01  4.08489777e-02 -7.04221967e-01] 136\n",
      "[ 0.01145819  0.38318382  0.02676454 -0.39896529] 137\n",
      "[ 0.01912187  0.18769261  0.01878523 -0.09796567] 138\n",
      "[ 0.02287572 -0.00769347  0.01682592  0.20058427] 139\n",
      "[ 0.02272185  0.18718385  0.0208376  -0.08674373] 140\n",
      "[ 0.02646553 -0.0082305   0.01910273  0.21243996] 141\n",
      "[ 0.02630092 -0.20362029  0.02335153  0.51108703] 142\n",
      "[ 0.02222851 -0.00883493  0.03357327  0.22585338] 143\n",
      "[[7.309675e-37 0.000000e+00]]\n",
      "action: 0\n",
      "[ 0.02205181 -0.20442021  0.03809034  0.52893467] 144\n",
      "[ 0.01796341 -0.00985426  0.04866903  0.24849327] 145\n",
      "[ 0.01776632 -0.20563626  0.0536389   0.55612158] 146\n",
      "[ 0.0136536  -0.01130678  0.06476133  0.28080888] 147\n",
      "[0.01342746 0.18283447 0.07037751 0.00923398] 148\n",
      "[ 0.01708415  0.37688023  0.07056218 -0.26044022] 149\n",
      "[[7.309675e-37 0.000000e+00]]\n",
      "action: 0\n",
      "[0.02462176 0.18082565 0.06535338 0.05363792] 150\n",
      "[[7.309675e-37 0.000000e+00]]\n",
      "action: 0\n",
      "[ 0.02823827 -0.01516955  0.06642614  0.36620333] 151\n",
      "[[7.309675e-37 0.000000e+00]]\n",
      "action: 0\n",
      "[ 0.02793488 -0.21116948  0.07375021  0.67906976] 152\n",
      "[ 0.02371149 -0.01714531  0.0873316   0.41048754] 153\n",
      "[ 0.02336858 -0.21338979  0.09554135  0.7293753 ] 154\n",
      "[ 0.01910079 -0.01970918  0.11012886  0.46822578] 155\n",
      "[0.0187066  0.17369867 0.11949337 0.212184  ] 156\n",
      "[ 0.02218058 -0.02291105  0.12373705  0.5400431 ] 157\n",
      "[0.02172236 0.17027418 0.13453792 0.28876673] 158\n",
      "[0.02512784 0.36324673 0.14031325 0.04135855] 159\n",
      "[0.03239278 0.16642071 0.14114042 0.37481291] 160\n",
      "[0.03572119 0.3592853  0.14863668 0.12975038] 161\n",
      "[0.0429069  0.16238134 0.15123169 0.46538815] 162\n",
      "[0.04615452 0.35507913 0.16053945 0.22393339] 163\n",
      "[0.0532561  0.15807033 0.16501812 0.56264277] 164\n",
      "[ 0.05641751 -0.03893577  0.17627097  0.90243298] 165\n",
      "[0.0556388  0.15341675 0.19431963 0.66993081] 166\n",
      "[ 0.05870713 -0.04379978  0.20771825  1.01695908] 167\n",
      "done\n",
      "[-0.01754764 -0.04343858  0.01203102 -0.04984823] 168\n",
      "[[7.309675e-37 0.000000e+00]]\n",
      "action: 0\n",
      "[-0.01841641 -0.23873096  0.01103406  0.24660617] 169\n",
      "[-0.02319103 -0.43400875  0.01596618  0.54274897] 170\n",
      "[-0.03187121 -0.62935141  0.02682116  0.84041947] 171\n",
      "[-0.04445823 -0.82482907  0.04362955  1.14141496] 172\n",
      "[-0.06095481 -0.63030367  0.06645785  0.86272756] 173\n",
      "[-0.07356089 -0.43614645  0.0837124   0.59165886] 174\n",
      "[-0.08228382 -0.63233444  0.09554558  0.90949303] 175\n",
      "[[7.309675e-37 0.000000e+00]]\n",
      "action: 0\n",
      "[-0.09493051 -0.82861063  0.11373544  1.23061217] 176\n",
      "[-0.11150272 -0.63512046  0.13834768  0.97561827] 177\n",
      "[-0.12420513 -0.83179954  0.15786005  1.30836264] 178\n",
      "[-0.14084112 -1.02852972  0.1840273   1.64600702] 179\n",
      "done\n",
      "[ 0.02897836  0.04740748 -0.00551784 -0.01831257] 180\n",
      "[ 0.02992651  0.24260812 -0.00588409 -0.31273132] 181\n",
      "[ 0.03477868  0.04757049 -0.01213872 -0.02190984] 182\n",
      "[[7.309675e-37 0.000000e+00]]\n",
      "action: 0\n",
      "[ 0.03573009 -0.1473753  -0.01257691  0.2669186 ] 183\n",
      "[[7.309675e-37 0.000000e+00]]\n",
      "action: 0\n",
      "[ 0.03278258 -0.34231551 -0.00723854  0.55560828] 184\n",
      "[ 0.02593627 -0.14709268  0.00387362  0.26065359] 185\n",
      "[ 0.02299442  0.04797376  0.0090867  -0.03080503] 186\n",
      "[[7.309675e-37 0.000000e+00]]\n",
      "action: 0\n",
      "[ 0.02395389 -0.14727731  0.0084706   0.26473094] 187\n",
      "[ 0.02100835  0.04772272  0.01376521 -0.02526829] 188\n",
      "[[7.309675e-37 0.000000e+00]]\n",
      "action: 0\n",
      "[ 0.0219628  -0.14759391  0.01325985  0.27172574] 189\n",
      "[ 0.01901092  0.04733635  0.01869436 -0.01674566] 190\n",
      "[ 0.01995765  0.24218528  0.01835945 -0.30347217] 191\n",
      "[ 0.02480135  0.04680656  0.01229001 -0.00505609] 192\n",
      "[ 0.02573749  0.24175011  0.01218889 -0.29383618] 193\n",
      "[0.03057249 0.04645652 0.00631216 0.00266589] 194\n",
      "[ 0.03150162 -0.14875538  0.00636548  0.29733368] 195\n",
      "[ 0.02852651 -0.34396749  0.01231215  0.59201735] 196\n",
      "[[7.309675e-37 0.000000e+00]]\n",
      "action: 0\n",
      "[ 0.02164716 -0.53925962  0.0241525   0.88855303] 197\n",
      "[[7.309675e-37 0.000000e+00]]\n",
      "action: 0\n",
      "[ 0.01086197 -0.73470088  0.04192356  1.18872955] 198\n",
      "[-0.00383205 -0.93034045  0.06569815  1.49425297] 199\n",
      "[[7.309675e-37 0.000000e+00]]\n",
      "action: 0\n",
      "[-0.02243886 -1.12619712  0.09558321  1.80670555] 200\n"
     ]
    },
    {
     "ename": "NameError",
     "evalue": "name 'plot' is not defined",
     "output_type": "error",
     "traceback": [
      "\u001b[0;31m---------------------------------------------------------------------------\u001b[0m",
      "\u001b[0;31mNameError\u001b[0m                                 Traceback (most recent call last)",
      "\u001b[0;32m<ipython-input-215-3c063c103fc6>\u001b[0m in \u001b[0;36m<module>\u001b[0;34m()\u001b[0m\n\u001b[1;32m     19\u001b[0m \u001b[0;34m\u001b[0m\u001b[0m\n\u001b[1;32m     20\u001b[0m     \u001b[0;32mif\u001b[0m \u001b[0mframe\u001b[0m \u001b[0;34m%\u001b[0m \u001b[0;36m200\u001b[0m \u001b[0;34m==\u001b[0m \u001b[0;36m0\u001b[0m\u001b[0;34m:\u001b[0m\u001b[0;34m\u001b[0m\u001b[0m\n\u001b[0;32m---> 21\u001b[0;31m         \u001b[0mplot\u001b[0m\u001b[0;34m(\u001b[0m\u001b[0mframe\u001b[0m\u001b[0;34m,\u001b[0m \u001b[0mall_rewards\u001b[0m\u001b[0;34m,\u001b[0m \u001b[0mlosses\u001b[0m\u001b[0;34m)\u001b[0m\u001b[0;34m\u001b[0m\u001b[0m\n\u001b[0m",
      "\u001b[0;31mNameError\u001b[0m: name 'plot' is not defined"
     ]
    }
   ],
   "source": [
    "state = env.reset()\n",
    "for frame in range(1, max_frames):\n",
    "    epsilon = epsilon_by_frame(frame)\n",
    "    print(state,frame)\n",
    "    action = model.act(state, epsilon)\n",
    "    next_state, reward, done, _ = env.step(action)\n",
    "    replay_buffer.push(state, action, reward, next_state, done)\n",
    "    state = next_state\n",
    "    episode_reward += reward   \n",
    "    if done:\n",
    "        print(\"done\")\n",
    "        state = env.reset()\n",
    "        overall_rewards.append(episode_reward)\n",
    "        episode_reward = 0\n",
    "        \n",
    "    if len(replay_buffer) > batch_size:\n",
    "        loss = compute_td_loss(batch_size)\n",
    "        losses.append(loss.data[0])\n",
    "        \n",
    "    if frame % 200 == 0:\n",
    "        plot(frame, all_rewards, losses)\n"
   ]
  },
  {
   "cell_type": "code",
   "execution_count": null,
   "metadata": {},
   "outputs": [],
   "source": []
  },
  {
   "cell_type": "code",
   "execution_count": 30,
   "metadata": {},
   "outputs": [],
   "source": [
    "X = np.arange(24).reshape(12,2)"
   ]
  },
  {
   "cell_type": "code",
   "execution_count": 31,
   "metadata": {},
   "outputs": [
    {
     "data": {
      "text/plain": [
       "array([[ 0,  1],\n",
       "       [ 2,  3],\n",
       "       [ 4,  5],\n",
       "       [ 6,  7],\n",
       "       [ 8,  9],\n",
       "       [10, 11],\n",
       "       [12, 13],\n",
       "       [14, 15],\n",
       "       [16, 17],\n",
       "       [18, 19],\n",
       "       [20, 21],\n",
       "       [22, 23]])"
      ]
     },
     "execution_count": 31,
     "metadata": {},
     "output_type": "execute_result"
    }
   ],
   "source": [
    "X"
   ]
  },
  {
   "cell_type": "code",
   "execution_count": 101,
   "metadata": {},
   "outputs": [],
   "source": [
    "Y = np.array([0, 1, 0, 1, 0, 1, 0, 1, 0, 1, 0, 1])"
   ]
  },
  {
   "cell_type": "code",
   "execution_count": 102,
   "metadata": {},
   "outputs": [
    {
     "data": {
      "text/plain": [
       "array([0, 1, 0, 1, 0, 1, 0, 1, 0, 1, 0, 1])"
      ]
     },
     "execution_count": 102,
     "metadata": {},
     "output_type": "execute_result"
    }
   ],
   "source": [
    "Y"
   ]
  },
  {
   "cell_type": "code",
   "execution_count": 103,
   "metadata": {},
   "outputs": [
    {
     "data": {
      "text/plain": [
       "0"
      ]
     },
     "execution_count": 103,
     "metadata": {},
     "output_type": "execute_result"
    }
   ],
   "source": [
    "X[0,Y[0]]"
   ]
  },
  {
   "cell_type": "code",
   "execution_count": 104,
   "metadata": {},
   "outputs": [
    {
     "data": {
      "text/plain": [
       "3"
      ]
     },
     "execution_count": 104,
     "metadata": {},
     "output_type": "execute_result"
    }
   ],
   "source": [
    "X[1,Y[1]]"
   ]
  },
  {
   "cell_type": "code",
   "execution_count": 123,
   "metadata": {},
   "outputs": [
    {
     "data": {
      "text/plain": [
       "array([ 0,  3,  4,  7,  8, 11, 12, 15, 16, 19, 20, 23])"
      ]
     },
     "execution_count": 123,
     "metadata": {},
     "output_type": "execute_result"
    }
   ],
   "source": [
    "Z = np.array([X[i,Y[i]] for i in range(12)])\n",
    "#for i in range(12):\n",
    "#    print (X[i,Y[i]])\n",
    "Z"
   ]
  },
  {
   "cell_type": "code",
   "execution_count": 92,
   "metadata": {},
   "outputs": [
    {
     "data": {
      "text/plain": [
       "3"
      ]
     },
     "execution_count": 92,
     "metadata": {},
     "output_type": "execute_result"
    }
   ],
   "source": [
    "X[i,Y[i]]\n",
    "i=1\n",
    "X[i,Y[i]]"
   ]
  },
  {
   "cell_type": "code",
   "execution_count": null,
   "metadata": {},
   "outputs": [],
   "source": []
  }
 ],
 "metadata": {
  "kernelspec": {
   "display_name": "nnabla",
   "language": "python",
   "name": "nnabla"
  },
  "language_info": {
   "codemirror_mode": {
    "name": "ipython",
    "version": 3
   },
   "file_extension": ".py",
   "mimetype": "text/x-python",
   "name": "python",
   "nbconvert_exporter": "python",
   "pygments_lexer": "ipython3",
   "version": "3.5.2"
  }
 },
 "nbformat": 4,
 "nbformat_minor": 2
}
