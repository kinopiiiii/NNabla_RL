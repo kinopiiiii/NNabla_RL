{
 "cells": [
  {
   "cell_type": "code",
   "execution_count": null,
   "metadata": {},
   "outputs": [],
   "source": [
    "import math\n",
    "import random\n",
    "import time\n",
    "from jupyterthemes import jtplot\n",
    "jtplot.style()\n",
    "\n",
    "import gym\n",
    "gym.logger.set_level(40)\n",
    "import numpy as np\n",
    "\n",
    "import nnabla as nn\n",
    "import nnabla.logger as logger\n",
    "import nnabla.functions as F\n",
    "import nnabla.parametric_functions as PF\n",
    "import nnabla.solver as S\n",
    "from nnabla.contrib.context import extension_context\n",
    "from nnabla.monitor import Monitor, MonitorSeries, MonitorTimeElapsed"
   ]
  },
  {
   "cell_type": "code",
   "execution_count": null,
   "metadata": {},
   "outputs": [],
   "source": [
    "from IPython.display import clear_output\n",
    "import matplotlib.pyplot as plt\n",
    "%matplotlib inline"
   ]
  },
  {
   "cell_type": "code",
   "execution_count": null,
   "metadata": {},
   "outputs": [],
   "source": [
    "env = gym.make(\"Hopper-v2\")\n",
    "state_num = env.observation_space.shape[0]\n",
    "action_num = env.action_space.shape[0]\n",
    "hidden_size = 128\n",
    "max_frames = 20000\n",
    "batch_size = 32\n",
    "gamma = 0.99\n",
    "learning_rate = 1e-3"
   ]
  },
  {
   "cell_type": "code",
   "execution_count": 2,
   "metadata": {},
   "outputs": [],
   "source": [
    "#Actor:状態に対して行動の選択確率(方策)を返す\n",
    "def Actor(state):\n",
    "    with nn.parameter_scope(\"Actor\"):\n",
    "        with nn.parameter_scope(\"Actor-affine1\"):\n",
    "            h = F.relu(PF.affine(state, hidden_size))\n",
    "        with nn.parameter_scope(\"Actor-affine2\"):\n",
    "            A = PF.affine(h, action_num)\n",
    "    return A\n",
    "\n",
    "#Critic:状態に対して価値を返す\n",
    "def Critic(state):\n",
    "    with nn.parameter_scope(\"Critic\"):\n",
    "        with nn.parameter_scope(\"Critic-affine1\"):\n",
    "            h = F.relu(PF.affine(state, hidden_size))\n",
    "        with nn.parameter_scope(\"Critic-affine2\"):\n",
    "            C = PF.affine(h, 1)\n",
    "    return C\n",
    "\n",
    "def get_policy(state):\n",
    "    State = nn.Variable([1, state_num])\n",
    "    State.d = state\n",
    "    Policy = Actor(state)\n",
    "    Policy.forward()\n",
    "    return Policy #.d\n",
    "\n",
    "\n",
    "def get_value(state):\n",
    "    State = nn.Variable([1, state_num])\n",
    "    State.d = state\n",
    "    Value = Critic(state)\n",
    "    Value.forward()\n",
    "    return Value.d #.d\n",
    "\n"
   ]
  },
  {
   "cell_type": "code",
   "execution_count": null,
   "metadata": {},
   "outputs": [],
   "source": [
    "#変数定義\n",
    "State = nn.Variable([batch_size, state_num]) \n",
    "Action = nn.Variable([batch_size, 1])\n",
    "#TODO 損失関数に必要な関数を定義する\n",
    "\n",
    "#損失関数定義\n",
    "#TODO Actor-Criticを解くための損失関数の定義を行う\n",
    "#loss = \n",
    "\n",
    "#solver定義\n",
    "solver = S.Adam(learning_rate)\n",
    "with nn.parameter_scope(\"Actor\"):\n",
    "    solver.set_parameters(nn.get_parameters())\n",
    "with nn.parameter_scope(\"Critic\"):\n",
    "    solver.set_parameters(nn.get_parameters())\n",
    "solver.zero_grad()\n",
    "\n",
    "losses = []\n",
    "overall_rewards = []\n",
    "episode_reward = 0"
   ]
  },
  {
   "cell_type": "code",
   "execution_count": null,
   "metadata": {},
   "outputs": [],
   "source": [
    "def plot(frame, rewards, losses):\n",
    "    clear_output(True)\n",
    "    plt.figure(figsize=(20,5))\n",
    "    plt.subplot(131)\n",
    "    plt.title('frame %s. reward: %s' % (frame, np.mean(rewards[-10:])))\n",
    "    plt.plot(rewards)\n",
    "    plt.subplot(132)\n",
    "    plt.title('loss')\n",
    "    plt.plot(losses)\n",
    "    plt.show()"
   ]
  },
  {
   "cell_type": "code",
   "execution_count": null,
   "metadata": {},
   "outputs": [],
   "source": []
  }
 ],
 "metadata": {
  "kernelspec": {
   "display_name": "nnabla",
   "language": "python",
   "name": "nnabla"
  },
  "language_info": {
   "codemirror_mode": {
    "name": "ipython",
    "version": 3
   },
   "file_extension": ".py",
   "mimetype": "text/x-python",
   "name": "python",
   "nbconvert_exporter": "python",
   "pygments_lexer": "ipython3",
   "version": "3.5.2"
  }
 },
 "nbformat": 4,
 "nbformat_minor": 2
}
