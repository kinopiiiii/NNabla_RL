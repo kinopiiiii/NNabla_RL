{
 "cells": [
  {
   "cell_type": "code",
   "execution_count": 4,
   "metadata": {},
   "outputs": [
    {
     "name": "stderr",
     "output_type": "stream",
     "text": [
      "2018-08-17 16:26:13,670 [nnabla][INFO]: Initializing CPU extension...\n"
     ]
    }
   ],
   "source": [
    "import math\n",
    "import random\n",
    "import time\n",
    "from jupyterthemes import jtplot\n",
    "jtplot.style()\n",
    "\n",
    "import gym\n",
    "gym.logger.set_level(40)\n",
    "import numpy as np\n",
    "\n",
    "import nnabla as nn\n",
    "import nnabla.logger as logger\n",
    "import nnabla.functions as F\n",
    "import nnabla.parametric_functions as PF\n",
    "import nnabla.solver as S\n",
    "import nnabla.initializer as I\n",
    "from nnabla.contrib.context import extension_context\n",
    "from nnabla.monitor import Monitor, MonitorSeries, MonitorTimeElapsed"
   ]
  },
  {
   "cell_type": "code",
   "execution_count": 2,
   "metadata": {},
   "outputs": [],
   "source": [
    "from IPython.display import clear_output\n",
    "import matplotlib.pyplot as plt\n",
    "%matplotlib inline"
   ]
  },
  {
   "cell_type": "code",
   "execution_count": 3,
   "metadata": {},
   "outputs": [
    {
     "name": "stdout",
     "output_type": "stream",
     "text": [
      "Choosing the latest nvidia driver: /usr/lib/nvidia-396, among ['/usr/lib/nvidia-375', '/usr/lib/nvidia-396']\n",
      "Choosing the latest nvidia driver: /usr/lib/nvidia-396, among ['/usr/lib/nvidia-375', '/usr/lib/nvidia-396']\n",
      "11 3\n"
     ]
    }
   ],
   "source": [
    "env = gym.make(\"Hopper-v2\")\n",
    "state_num = env.observation_space.shape[0]\n",
    "action_num = env.action_space.shape[0]\n",
    "hidden_size = 128\n",
    "max_frames = 200000\n",
    "num_steps = 20000\n",
    "batch_size = 32\n",
    "gamma = 0.99\n",
    "learning_rate = 1e-3\n",
    "ppo_epochs = 10\n",
    "\n",
    "plot_interval = 100\n",
    "print(state_num,action_num)"
   ]
  },
  {
   "cell_type": "code",
   "execution_count": 52,
   "metadata": {},
   "outputs": [
    {
     "data": {
      "text/plain": [
       "array([[-9.026051e-06,  4.558704e-41, -9.026051e-06]], dtype=float32)"
      ]
     },
     "execution_count": 52,
     "metadata": {},
     "output_type": "execute_result"
    }
   ],
   "source": [
    "#Actor:状態に対して行動の選択確率(方策)を返す\n",
    "def Actor(state):\n",
    "    with nn.parameter_scope(\"Actor\"):\n",
    "        with nn.parameter_scope(\"Actor-affine1\"):\n",
    "            h = F.relu(PF.affine(state, hidden_size))\n",
    "        with nn.parameter_scope(\"Actor-affine2\"):\n",
    "            h = F.relu(PF.affine(h, hidden_size))\n",
    "        with nn.parameter_scope(\"Actor-affine3\"):\n",
    "            A = PF.affine(h, action_num)\n",
    "    return A\n",
    "\n",
    "#Critic:状態に対して価値を返す\n",
    "def Critic(state):\n",
    "    with nn.parameter_scope(\"Critic\"):\n",
    "        with nn.parameter_scope(\"Critic-affine1\"):\n",
    "            h = F.relu(PF.affine(state, hidden_size))\n",
    "        with nn.parameter_scope(\"Critic-affine2\"):\n",
    "            h = F.relu(PF.affine(h, hidden_size))\n",
    "        with nn.parameter_scope(\"Critic-affine3\"):\n",
    "            C = PF.affine(h, 1)\n",
    "    return C\n",
    "\n",
    "def get_policy(state):\n",
    "    State = nn.Variable([batch_size, state_num])\n",
    "    State.d = state\n",
    "    Policy = Actor(state)\n",
    "    Policy.forward()\n",
    "    return Policy #.d\n",
    "\n",
    "\n",
    "def get_value(state):\n",
    "    State = nn.Variable([batch_size, state_num])\n",
    "    State.d = state\n",
    "    Value = Critic(state)\n",
    "    Value.forward()\n",
    "    return Value.d #.d\n"
   ]
  },
  {
   "cell_type": "code",
   "execution_count": 5,
   "metadata": {},
   "outputs": [],
   "source": [
    "#変数定義\n",
    "#State = nn.Variable([batch_size, state_num]) \n",
    "#Action = nn.Variable([batch_size, 1])\n",
    "State = nn.Variable([100, state_num]) \n",
    "Action = nn.Variable([100, 1])\n",
    "\n",
    "#TODO 損失関数に必要な関数を定義する\n",
    "Policy = Actor(State)\n",
    "Value = Critic(State)\n",
    "\n",
    "tP_ = np.full((100, 3), 5.0)\n",
    "tV_ = np.full((100, 1), -5.0)\n",
    "tP = nn.Variable.from_numpy_array(tP_)\n",
    "tV = nn.Variable.from_numpy_array(tV_)\n",
    "\n",
    "loss_actor = F.squared_error(Policy,tP)\n",
    "loss_critic = F.squared_error(Value,tV)\n",
    "loss = loss_actor + loss_critic\n",
    "               \n",
    "\n",
    "#損失関数定義\n",
    "#TODO Actor-Criticを解くための損失関数の定義を行う\n",
    "#loss = \n",
    "\n",
    "\n",
    "#solver定義\n",
    "solver_actor = S.Adam(learning_rate)\n",
    "solver_critic = S.Adam(learning_rate)\n",
    "\n",
    "with nn.parameter_scope(\"Actor\"):\n",
    "    solver_actor.set_parameters(nn.get_parameters())\n",
    "with nn.parameter_scope(\"Critic\"):\n",
    "    solver_critic.set_parameters(nn.get_parameters())\n",
    "\n",
    "solver_actor.zero_grad()\n",
    "solver_critic.zero_grad()\n",
    "\n",
    "losses = []\n",
    "overall_rewards = []\n",
    "episode_reward = 0"
   ]
  },
  {
   "cell_type": "code",
   "execution_count": 6,
   "metadata": {},
   "outputs": [],
   "source": [
    "def compute_gradient(states, actions):\n",
    "    for _ in range(ppo_epochs):\n",
    "        State.d =state\n",
    "        Policy.forward()\n",
    "        Value.forward()\n",
    "\n",
    "#        print(\"Policy : \",Policy.d)\n",
    "#        print(\"Value : \",Value.d)\n",
    "#        print(\"tP : \",tP.d)\n",
    "#        print(\"tV : \",tV.d)\n",
    "\n",
    "        loss.forward()\n",
    "        solver_actor.zero_grad()\n",
    "        solver_critic.zero_grad()\n",
    "        loss.backward()\n",
    "        solver_actor.update()\n",
    "        solver_critic.update()\n",
    "\n",
    "        Policy.forward()\n",
    "        Value.forward()\n",
    "#        print(\"Policy : \",Policy.d[0])\n",
    "#        print(\"Value : \",Value.d[0])\n",
    "    return loss"
   ]
  },
  {
   "cell_type": "code",
   "execution_count": 7,
   "metadata": {},
   "outputs": [],
   "source": [
    "def plot(frame, rewards, losses):\n",
    "    clear_output(True)\n",
    "    plt.figure(figsize=(20,5))\n",
    "    plt.subplot(131)\n",
    "    plt.title('frame %s. reward: %s' % (frame, np.mean(rewards[-10:])))\n",
    "    plt.plot(rewards)\n",
    "    plt.subplot(132)\n",
    "    plt.title('loss')\n",
    "    plt.plot(losses)\n",
    "    plt.show()"
   ]
  },
  {
   "cell_type": "code",
   "execution_count": null,
   "metadata": {},
   "outputs": [
    {
     "data": {
      "image/png": "[encoded data removed]",
      "text/plain": [
       "<Figure size 1440x360 with 2 Axes>"
      ]
     },
     "metadata": {},
     "output_type": "display_data"
    }
   ],
   "source": [
    "state = env.reset()\n",
    "#nn.clear_parameters()\n",
    "for frame in range(1, max_frames):\n",
    "    states    = []\n",
    "    actions   = []\n",
    "    episode_reward = 0\n",
    "    \n",
    "    for i in range (1, num_steps):\n",
    "        #TODO 方策から行動決定\n",
    "        action = env.action_space.sample() #test\n",
    "        next_state, reward, done, _ = env.step(action)\n",
    "        state = next_state\n",
    "        \n",
    "        states.append(state)\n",
    "        actions.append(action)\n",
    "        episode_reward += reward   \n",
    "        \n",
    "        if done or i == 100: #デバッグ用に100ステップで終了\n",
    "            state = env.reset()\n",
    "            overall_rewards.append(episode_reward)  \n",
    "            break\n",
    "            \n",
    "    loss = compute_gradient(states, actions)\n",
    "    losses.append(np.average(loss.d[0]))\n",
    "    \n",
    "    if frame % plot_interval == 0:\n",
    "        plot(frame, overall_rewards, losses)"
   ]
  },
  {
   "cell_type": "code",
   "execution_count": null,
   "metadata": {},
   "outputs": [],
   "source": [
    "#test\n",
    "state = env.reset()\n",
    "batch_size = 1\n",
    "State = nn.Variable([batch_size, state_num]) \n",
    "Action = nn.Variable([batch_size, action_num])\n"
   ]
  },
  {
   "cell_type": "code",
   "execution_count": null,
   "metadata": {},
   "outputs": [],
   "source": [
    "#test\n",
    "Policy = Actor(State)\n",
    "Value = Critic(State)\n",
    "\n",
    "tP_ = np.array([[5.0,5.0,5.0]])\n",
    "tV_ = np.array([[-10.0]])\n",
    "tP = nn.Variable.from_numpy_array(tP_)\n",
    "tV = nn.Variable.from_numpy_array(tV_)\n",
    "print(\"tP : \",tP.d)\n",
    "print(\"tV : \",tV.d)\n",
    "\n",
    "loss_actor = F.squared_error(Policy,tP)\n",
    "loss_critic = F.squared_error(Value,tV)\n",
    "loss = loss_actor + loss_critic\n",
    "print(\"loss\",loss)\n",
    "#Q_value = F.sum(F.one_hot(Action, (2,)) * Q, axis=1, keepdims=True)\n",
    "#next_Q_value = F.max(Q, axis=1, keepdims=True)\n",
    "#expected_Q_value = nn.Variable([batch_size, 1])\n",
    "\n",
    "#損失関数定義\n",
    "#loss = F.squared_error(Q_value, expected_Q_value)"
   ]
  },
  {
   "cell_type": "code",
   "execution_count": null,
   "metadata": {},
   "outputs": [],
   "source": [
    "#test\n",
    "State.d =state\n",
    "Policy.forward()\n",
    "Value.forward()\n",
    "\n",
    "print(\"Policy : \",Policy.d)\n",
    "print(\"Value : \",Value.d)\n",
    "print(\"tP : \",tP.d)\n",
    "print(\"tV : \",tV.d)\n",
    "\n",
    "loss.forward()\n",
    "solver_actor.zero_grad()\n",
    "solver_critic.zero_grad()\n",
    "loss.backward()\n",
    "solver_actor.update()\n",
    "solver_critic.update()\n",
    "\n",
    "Policy.forward()\n",
    "Value.forward()\n",
    "print(\"Policy : \",Policy.d)\n",
    "print(\"Value : \",Value.d)"
   ]
  },
  {
   "cell_type": "code",
   "execution_count": null,
   "metadata": {},
   "outputs": [],
   "source": []
  },
  {
   "cell_type": "code",
   "execution_count": null,
   "metadata": {},
   "outputs": [],
   "source": []
  }
 ],
 "metadata": {
  "kernelspec": {
   "display_name": "nnabla",
   "language": "python",
   "name": "nnabla"
  },
  "language_info": {
   "codemirror_mode": {
    "name": "ipython",
    "version": 3
   },
   "file_extension": ".py",
   "mimetype": "text/x-python",
   "name": "python",
   "nbconvert_exporter": "python",
   "pygments_lexer": "ipython3",
   "version": "3.5.2"
  }
 },
 "nbformat": 4,
 "nbformat_minor": 2
}
