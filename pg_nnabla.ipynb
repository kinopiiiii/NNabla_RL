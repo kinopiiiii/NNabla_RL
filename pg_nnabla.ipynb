{
 "cells": [
  {
   "cell_type": "code",
   "execution_count": 4,
   "metadata": {},
   "outputs": [
    {
     "name": "stderr",
     "output_type": "stream",
     "text": [
      "2018-08-16 09:18:59,931 [nnabla][INFO]: Initializing CPU extension...\n"
     ]
    }
   ],
   "source": [
    "import math\n",
    "import random\n",
    "import time\n",
    "from jupyterthemes import jtplot\n",
    "jtplot.style()\n",
    "\n",
    "import gym\n",
    "gym.logger.set_level(40)\n",
    "import numpy as np\n",
    "\n",
    "import nnabla as nn\n",
    "import nnabla.logger as logger\n",
    "import nnabla.functions as F\n",
    "import nnabla.parametric_functions as PF\n",
    "import nnabla.solver as S\n",
    "from nnabla.contrib.context import extension_context\n",
    "from nnabla.monitor import Monitor, MonitorSeries, MonitorTimeElapsed"
   ]
  },
  {
   "cell_type": "code",
   "execution_count": 5,
   "metadata": {},
   "outputs": [],
   "source": [
    "from IPython.display import clear_output\n",
    "import matplotlib.pyplot as plt\n",
    "%matplotlib inline"
   ]
  },
  {
   "cell_type": "code",
   "execution_count": 6,
   "metadata": {},
   "outputs": [
    {
     "name": "stdout",
     "output_type": "stream",
     "text": [
      "Choosing the latest nvidia driver: /usr/lib/nvidia-396, among ['/usr/lib/nvidia-375', '/usr/lib/nvidia-396']\n",
      "Choosing the latest nvidia driver: /usr/lib/nvidia-396, among ['/usr/lib/nvidia-375', '/usr/lib/nvidia-396']\n"
     ]
    }
   ],
   "source": [
    "env = gym.make(\"Hopper-v2\")\n",
    "state_num = env.observation_space.shape[0]\n",
    "action_num = env.action_space.shape[0]\n",
    "hidden_size = 128\n",
    "max_frames = 200000\n",
    "num_steps = 20000\n",
    "batch_size = 32\n",
    "gamma = 0.99\n",
    "learning_rate = 1e-3\n",
    "\n",
    "plot_interval = 1000"
   ]
  },
  {
   "cell_type": "code",
   "execution_count": 7,
   "metadata": {},
   "outputs": [],
   "source": [
    "#Actor:状態に対して行動の選択確率(方策)を返す\n",
    "def Actor(state):\n",
    "    with nn.parameter_scope(\"Actor\"):\n",
    "        with nn.parameter_scope(\"Actor-affine1\"):\n",
    "            h = F.relu(PF.affine(state, hidden_size))\n",
    "        with nn.parameter_scope(\"Actor-affine2\"):\n",
    "            A = PF.affine(h, action_num)\n",
    "    return A\n",
    "\n",
    "#Critic:状態に対して価値を返す\n",
    "def Critic(state):\n",
    "    with nn.parameter_scope(\"Critic\"):\n",
    "        with nn.parameter_scope(\"Critic-affine1\"):\n",
    "            h = F.relu(PF.affine(state, hidden_size))\n",
    "        with nn.parameter_scope(\"Critic-affine2\"):\n",
    "            C = PF.affine(h, 1)\n",
    "    return C\n",
    "\n",
    "def get_policy(state):\n",
    "    State = nn.Variable([1, state_num])\n",
    "    State.d = state\n",
    "    Policy = Actor(state)\n",
    "    Policy.forward()\n",
    "    return Policy #.d\n",
    "\n",
    "\n",
    "def get_value(state):\n",
    "    State = nn.Variable([1, state_num])\n",
    "    State.d = state\n",
    "    Value = Critic(state)\n",
    "    Value.forward()\n",
    "    return Value.d #.d\n",
    "\n"
   ]
  },
  {
   "cell_type": "code",
   "execution_count": 8,
   "metadata": {},
   "outputs": [],
   "source": [
    "#変数定義\n",
    "State = nn.Variable([batch_size, state_num]) \n",
    "Action = nn.Variable([batch_size, 1])\n",
    "#TODO 損失関数に必要な関数を定義する\n",
    "\n",
    "#損失関数定義\n",
    "#TODO Actor-Criticを解くための損失関数の定義を行う\n",
    "#loss = \n",
    "\n",
    "#solver定義\n",
    "solver = S.Adam(learning_rate)\n",
    "with nn.parameter_scope(\"Actor\"):\n",
    "    solver.set_parameters(nn.get_parameters())\n",
    "with nn.parameter_scope(\"Critic\"):\n",
    "    solver.set_parameters(nn.get_parameters())\n",
    "solver.zero_grad()\n",
    "\n",
    "losses = []\n",
    "overall_rewards = []\n",
    "episode_reward = 0"
   ]
  },
  {
   "cell_type": "code",
   "execution_count": 9,
   "metadata": {},
   "outputs": [],
   "source": [
    "def plot(frame, rewards, losses):\n",
    "    clear_output(True)\n",
    "    plt.figure(figsize=(20,5))\n",
    "    plt.subplot(131)\n",
    "    plt.title('frame %s. reward: %s' % (frame, np.mean(rewards[-10:])))\n",
    "    plt.plot(rewards)\n",
    "    plt.subplot(132)\n",
    "    plt.title('loss')\n",
    "    plt.plot(losses)\n",
    "    plt.show()"
   ]
  },
  {
   "cell_type": "code",
   "execution_count": 10,
   "metadata": {},
   "outputs": [
    {
     "ename": "NameError",
     "evalue": "name 'action' is not defined",
     "output_type": "error",
     "traceback": [
      "\u001b[0;31m---------------------------------------------------------------------------\u001b[0m",
      "\u001b[0;31mNameError\u001b[0m                                 Traceback (most recent call last)",
      "\u001b[0;32m<ipython-input-10-3319a34b0d6d>\u001b[0m in \u001b[0;36m<module>\u001b[0;34m()\u001b[0m\n\u001b[1;32m      6\u001b[0m         \u001b[0;31m#TODO 方策から行動決定\u001b[0m\u001b[0;34m\u001b[0m\u001b[0;34m\u001b[0m\u001b[0m\n\u001b[1;32m      7\u001b[0m         \u001b[0;31m#action =\u001b[0m\u001b[0;34m\u001b[0m\u001b[0;34m\u001b[0m\u001b[0m\n\u001b[0;32m----> 8\u001b[0;31m         \u001b[0mnext_state\u001b[0m\u001b[0;34m,\u001b[0m \u001b[0mreward\u001b[0m\u001b[0;34m,\u001b[0m \u001b[0mdone\u001b[0m\u001b[0;34m,\u001b[0m \u001b[0m_\u001b[0m \u001b[0;34m=\u001b[0m \u001b[0menv\u001b[0m\u001b[0;34m.\u001b[0m\u001b[0mstep\u001b[0m\u001b[0;34m(\u001b[0m\u001b[0maction\u001b[0m\u001b[0;34m)\u001b[0m\u001b[0;34m\u001b[0m\u001b[0m\n\u001b[0m\u001b[1;32m      9\u001b[0m         \u001b[0mstate\u001b[0m \u001b[0;34m=\u001b[0m \u001b[0mnext_state\u001b[0m\u001b[0;34m\u001b[0m\u001b[0m\n\u001b[1;32m     10\u001b[0m         \u001b[0mepisode_reward\u001b[0m \u001b[0;34m+=\u001b[0m \u001b[0mreward\u001b[0m\u001b[0;34m\u001b[0m\u001b[0m\n",
      "\u001b[0;31mNameError\u001b[0m: name 'action' is not defined"
     ]
    }
   ],
   "source": [
    "state = env.reset()\n",
    "#nn.clear_parameters()\n",
    "for frame in range(1, max_frames):\n",
    "    episode_reward = 0\n",
    "    for i in range (num_steps):\n",
    "        #TODO 方策から行動決定\n",
    "        #action = \n",
    "        next_state, reward, done, _ = env.step(action)\n",
    "        state = next_state\n",
    "        episode_reward += reward   \n",
    "        if done:\n",
    "            state = env.reset()\n",
    "            overall_rewards.append(episode_reward)  \n",
    "    loss = compute_gradient()\n",
    "    losses.append(np.average(loss.d[0]))\n",
    "    if frame % plot_interval == 0:\n",
    "        plot(frame, overall_rewards, losses)"
   ]
  },
  {
   "cell_type": "code",
   "execution_count": null,
   "metadata": {},
   "outputs": [],
   "source": []
  }
 ],
 "metadata": {
  "kernelspec": {
   "display_name": "nnabla",
   "language": "python",
   "name": "nnabla"
  },
  "language_info": {
   "codemirror_mode": {
    "name": "ipython",
    "version": 3
   },
   "file_extension": ".py",
   "mimetype": "text/x-python",
   "name": "python",
   "nbconvert_exporter": "python",
   "pygments_lexer": "ipython3",
   "version": "3.5.2"
  }
 },
 "nbformat": 4,
 "nbformat_minor": 2
}
